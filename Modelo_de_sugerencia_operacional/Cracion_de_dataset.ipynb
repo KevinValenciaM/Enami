{
 "cells": [
  {
   "cell_type": "code",
   "execution_count": 1,
   "id": "16669203",
   "metadata": {},
   "outputs": [],
   "source": [
    "import pandas as pd"
   ]
  },
  {
   "cell_type": "code",
   "execution_count": 2,
   "id": "4d69e8f5",
   "metadata": {},
   "outputs": [],
   "source": [
    "import numpy as np"
   ]
  },
  {
   "cell_type": "code",
   "execution_count": 3,
   "id": "1c2a8015",
   "metadata": {},
   "outputs": [],
   "source": [
    "import matplotlib.pyplot as plt\n",
    "import seaborn as sns"
   ]
  },
  {
   "cell_type": "code",
   "execution_count": 4,
   "id": "e7f6f5e2",
   "metadata": {},
   "outputs": [],
   "source": [
    "from datetime import timedelta"
   ]
  },
  {
   "cell_type": "markdown",
   "id": "4d92741c",
   "metadata": {},
   "source": [
    "## Creacion de dataset"
   ]
  },
  {
   "cell_type": "code",
   "execution_count": 5,
   "id": "aae8cdbb",
   "metadata": {},
   "outputs": [],
   "source": [
    "# ley cobre de MB y ley Fe304 de escoria\n",
    "escoria_FE_2023 = pd.read_excel(\"documentos/2023/Leyes.xlsx\", skiprows=1, sheet_name = 'Ley Fe3O4_Escoria')\n",
    "MB_Cu_2023 = pd.read_excel(\"documentos/2023/Leyes.xlsx\", skiprows=2, sheet_name = 'Ley Cu_MB')"
   ]
  },
  {
   "cell_type": "code",
   "execution_count": 6,
   "id": "6648d805",
   "metadata": {},
   "outputs": [],
   "source": [
    "#archivo Datos 1 hoja Average con variables de operacion\n",
    "df_total = pd.read_excel(\"documentos/2023/Datos 1..xlsx\", skiprows=1, sheet_name = 'Average.')"
   ]
  },
  {
   "cell_type": "code",
   "execution_count": 7,
   "id": "e4568f82",
   "metadata": {},
   "outputs": [],
   "source": [
    "df_total.drop('Unnamed: 0', axis=1, inplace=True)\n",
    "MB_Cu_2023.drop('Unnamed: 0', axis=1, inplace=True)\n",
    "escoria_FE_2023.drop('Unnamed: 0', axis=1, inplace=True)"
   ]
  },
  {
   "cell_type": "code",
   "execution_count": 8,
   "id": "92a16399",
   "metadata": {},
   "outputs": [],
   "source": [
    "escoria_FE_2023['Fecha'] = escoria_FE_2023['Fecha'].astype(str)\n",
    "MB_Cu_2023['Fecha'] = MB_Cu_2023['Fecha'].astype(str)"
   ]
  },
  {
   "cell_type": "code",
   "execution_count": 9,
   "id": "93e0137e",
   "metadata": {
    "scrolled": true
   },
   "outputs": [],
   "source": [
    "escoria_FE_2023['Timestamp'] = escoria_FE_2023['Fecha'].astype(str)+' '+escoria_FE_2023['Hora'].astype(str)\n",
    "MB_Cu_2023['Timestamp'] = MB_Cu_2023['Fecha'].astype(str)+' '+MB_Cu_2023['Hora'].astype(str)"
   ]
  },
  {
   "cell_type": "code",
   "execution_count": 10,
   "id": "d27fbda9",
   "metadata": {},
   "outputs": [],
   "source": [
    "escoria_FE_2023['Timestamp'] = pd.to_datetime(escoria_FE_2023['Timestamp'])\n",
    "MB_Cu_2023['Timestamp'] = pd.to_datetime(MB_Cu_2023['Timestamp'])"
   ]
  },
  {
   "cell_type": "code",
   "execution_count": 11,
   "id": "27c75de9",
   "metadata": {},
   "outputs": [],
   "source": [
    "escoria_FE_2023['Timestamp'] = escoria_FE_2023['Timestamp'].dt.strftime(\"%Y-%m-%d %H:%m:%s\")\n",
    "MB_Cu_2023['Timestamp'] = MB_Cu_2023['Timestamp'].dt.strftime(\"%Y-%m-%d %H:%m:%s\")"
   ]
  },
  {
   "cell_type": "code",
   "execution_count": 12,
   "id": "200163df",
   "metadata": {},
   "outputs": [],
   "source": [
    "escoria_FE_2023['Timestamp'] = pd.to_datetime(escoria_FE_2023['Timestamp'])\n",
    "MB_Cu_2023['Timestamp'] = pd.to_datetime(MB_Cu_2023['Timestamp'])"
   ]
  },
  {
   "cell_type": "code",
   "execution_count": 13,
   "id": "c98e56be",
   "metadata": {},
   "outputs": [],
   "source": [
    "escoria_FE_2023.drop(['Fecha', 'Equipo', 'Producto', 'Hora'], axis=1, inplace=True)\n",
    "MB_Cu_2023.drop(['Fecha', 'Equipo', 'Producto', 'Hora'], axis=1, inplace=True)"
   ]
  },
  {
   "cell_type": "code",
   "execution_count": 14,
   "id": "67f6715b",
   "metadata": {},
   "outputs": [],
   "source": [
    "escoria_FE_2023.rename(columns={'Valor':'escoria_FE'}, inplace=True)\n",
    "MB_Cu_2023.rename(columns={'Valor':'MB_Cu'}, inplace=True)"
   ]
  },
  {
   "cell_type": "code",
   "execution_count": 15,
   "id": "c21c79a9",
   "metadata": {},
   "outputs": [],
   "source": [
    "df_total['TimeStamp'] = df_total['TimeStamp'] + timedelta(seconds=1)"
   ]
  },
  {
   "cell_type": "code",
   "execution_count": 16,
   "id": "8301d0e7",
   "metadata": {},
   "outputs": [],
   "source": [
    "df_total.rename(columns={'TimeStamp':'Timestamp'}, inplace=True)"
   ]
  },
  {
   "cell_type": "code",
   "execution_count": null,
   "id": "f1b88999",
   "metadata": {},
   "outputs": [],
   "source": [
    "escoria_FE_2023[~escoria_FE_2023['Timestamp'].isin(df_total['Timestamp'])] #no existe el 31-01-2021 en los datos average"
   ]
  },
  {
   "cell_type": "code",
   "execution_count": 17,
   "id": "4b9d9cdd",
   "metadata": {},
   "outputs": [],
   "source": [
    "merge = pd.merge(df_total,escoria_FE_2023, how='left', on = 'Timestamp')"
   ]
  },
  {
   "cell_type": "code",
   "execution_count": 18,
   "id": "0b993f9d",
   "metadata": {},
   "outputs": [],
   "source": [
    "merge = pd.merge(merge,MB_Cu_2023, how='left', on = 'Timestamp')"
   ]
  },
  {
   "cell_type": "code",
   "execution_count": 20,
   "id": "f599f287",
   "metadata": {},
   "outputs": [
    {
     "data": {
      "text/html": [
       "<div>\n",
       "<style scoped>\n",
       "    .dataframe tbody tr th:only-of-type {\n",
       "        vertical-align: middle;\n",
       "    }\n",
       "\n",
       "    .dataframe tbody tr th {\n",
       "        vertical-align: top;\n",
       "    }\n",
       "\n",
       "    .dataframe thead th {\n",
       "        text-align: right;\n",
       "    }\n",
       "</style>\n",
       "<table border=\"1\" class=\"dataframe\">\n",
       "  <thead>\n",
       "    <tr style=\"text-align: right;\">\n",
       "      <th></th>\n",
       "      <th>Timestamp</th>\n",
       "      <th>.FI_325</th>\n",
       "      <th>.[FFIC_324.PV]</th>\n",
       "      <th>.TASA_INST</th>\n",
       "      <th>.[WIC_135.PV]</th>\n",
       "      <th>.[WIC_134.PV]</th>\n",
       "      <th>.TIR_311</th>\n",
       "      <th>.TIR_313</th>\n",
       "      <th>escoria_FE</th>\n",
       "      <th>MB_Cu</th>\n",
       "    </tr>\n",
       "  </thead>\n",
       "  <tbody>\n",
       "    <tr>\n",
       "      <th>0</th>\n",
       "      <td>2023-01-01 00:05:00</td>\n",
       "      <td>497.82298</td>\n",
       "      <td>37.975855</td>\n",
       "      <td>67.040951</td>\n",
       "      <td>4.868728</td>\n",
       "      <td>2.272423</td>\n",
       "      <td>1239.551086</td>\n",
       "      <td>1242.537354</td>\n",
       "      <td>NaN</td>\n",
       "      <td>NaN</td>\n",
       "    </tr>\n",
       "    <tr>\n",
       "      <th>1</th>\n",
       "      <td>2023-01-01 00:10:00</td>\n",
       "      <td>490.657786</td>\n",
       "      <td>38.31309</td>\n",
       "      <td>48.213518</td>\n",
       "      <td>6.274582</td>\n",
       "      <td>3.707383</td>\n",
       "      <td>1239.545825</td>\n",
       "      <td>1242.556079</td>\n",
       "      <td>NaN</td>\n",
       "      <td>NaN</td>\n",
       "    </tr>\n",
       "    <tr>\n",
       "      <th>2</th>\n",
       "      <td>2023-01-01 00:15:00</td>\n",
       "      <td>411.457943</td>\n",
       "      <td>27.15304</td>\n",
       "      <td>61.80843</td>\n",
       "      <td>4.291978</td>\n",
       "      <td>2.740755</td>\n",
       "      <td>1239.564771</td>\n",
       "      <td>1242.520361</td>\n",
       "      <td>NaN</td>\n",
       "      <td>NaN</td>\n",
       "    </tr>\n",
       "    <tr>\n",
       "      <th>3</th>\n",
       "      <td>2023-01-01 00:20:00</td>\n",
       "      <td>0</td>\n",
       "      <td>21</td>\n",
       "      <td>0</td>\n",
       "      <td>0.00222</td>\n",
       "      <td>0.003208</td>\n",
       "      <td>1239.557458</td>\n",
       "      <td>1242.529431</td>\n",
       "      <td>21.1</td>\n",
       "      <td>NaN</td>\n",
       "    </tr>\n",
       "    <tr>\n",
       "      <th>4</th>\n",
       "      <td>2023-01-01 00:25:00</td>\n",
       "      <td>0</td>\n",
       "      <td>21</td>\n",
       "      <td>0</td>\n",
       "      <td>0.002117</td>\n",
       "      <td>0.003212</td>\n",
       "      <td>1239.556494</td>\n",
       "      <td>1242.52572</td>\n",
       "      <td>NaN</td>\n",
       "      <td>NaN</td>\n",
       "    </tr>\n",
       "  </tbody>\n",
       "</table>\n",
       "</div>"
      ],
      "text/plain": [
       "            Timestamp     .FI_325 .[FFIC_324.PV] .TASA_INST .[WIC_135.PV]  \\\n",
       "0 2023-01-01 00:05:00   497.82298      37.975855  67.040951      4.868728   \n",
       "1 2023-01-01 00:10:00  490.657786       38.31309  48.213518      6.274582   \n",
       "2 2023-01-01 00:15:00  411.457943       27.15304   61.80843      4.291978   \n",
       "3 2023-01-01 00:20:00           0             21          0       0.00222   \n",
       "4 2023-01-01 00:25:00           0             21          0      0.002117   \n",
       "\n",
       "  .[WIC_134.PV]     .TIR_311     .TIR_313  escoria_FE  MB_Cu  \n",
       "0      2.272423  1239.551086  1242.537354         NaN    NaN  \n",
       "1      3.707383  1239.545825  1242.556079         NaN    NaN  \n",
       "2      2.740755  1239.564771  1242.520361         NaN    NaN  \n",
       "3      0.003208  1239.557458  1242.529431        21.1    NaN  \n",
       "4      0.003212  1239.556494   1242.52572         NaN    NaN  "
      ]
     },
     "execution_count": 20,
     "metadata": {},
     "output_type": "execute_result"
    }
   ],
   "source": [
    "merge.head()"
   ]
  },
  {
   "cell_type": "code",
   "execution_count": null,
   "id": "c9596b9a",
   "metadata": {},
   "outputs": [],
   "source": [
    "# rellenar espacios faltantes"
   ]
  },
  {
   "cell_type": "code",
   "execution_count": 21,
   "id": "ccf53882",
   "metadata": {},
   "outputs": [],
   "source": [
    "merge['escoria_FE'] = merge['escoria_FE'].fillna(method='backfill')"
   ]
  },
  {
   "cell_type": "code",
   "execution_count": 22,
   "id": "a04abb69",
   "metadata": {},
   "outputs": [],
   "source": [
    "merge['MB_Cu'] = merge['MB_Cu'].fillna(method='backfill')"
   ]
  },
  {
   "cell_type": "code",
   "execution_count": 23,
   "id": "26d3c559",
   "metadata": {},
   "outputs": [],
   "source": [
    "merge['escoria_FE'] = merge['escoria_FE'].fillna(method='ffill')"
   ]
  },
  {
   "cell_type": "code",
   "execution_count": 24,
   "id": "c82c1551",
   "metadata": {},
   "outputs": [],
   "source": [
    "merge['MB_Cu'] = merge['MB_Cu'].fillna(method='ffill')"
   ]
  },
  {
   "cell_type": "code",
   "execution_count": 25,
   "id": "a47d1519",
   "metadata": {},
   "outputs": [],
   "source": [
    "### union ley con_cu y con_S\n",
    "Con_cu = pd.read_excel(\"documentos/2023/Leyes.xlsx\", skiprows=2, sheet_name = 'Ley Cu_Concentrado.')\n",
    "\n",
    "Con_S = pd.read_excel(\"documentos/2023/Leyes.xlsx\", skiprows=2, sheet_name = 'Ley S_Concentrado.')"
   ]
  },
  {
   "cell_type": "code",
   "execution_count": 26,
   "id": "c753e73f",
   "metadata": {},
   "outputs": [],
   "source": [
    "Con_S.drop('Unnamed: 0', axis=1, inplace=True)\n",
    "Con_cu.drop('Unnamed: 0', axis=1, inplace=True)"
   ]
  },
  {
   "cell_type": "code",
   "execution_count": 27,
   "id": "a16a9973",
   "metadata": {},
   "outputs": [],
   "source": [
    "Con_cu.rename(columns={'Día':'Con_cu'}, inplace=True)\n",
    "Con_S.rename(columns={'Día':'Con_S'}, inplace=True)"
   ]
  },
  {
   "cell_type": "code",
   "execution_count": 28,
   "id": "f665277d",
   "metadata": {},
   "outputs": [],
   "source": [
    "merge['Fecha'] = merge['Timestamp'].dt.strftime(\"%Y-%m-%d\")"
   ]
  },
  {
   "cell_type": "code",
   "execution_count": 29,
   "id": "0ae7a78e",
   "metadata": {},
   "outputs": [],
   "source": [
    "merge['Fecha'] = pd.to_datetime(merge['Fecha'])"
   ]
  },
  {
   "cell_type": "code",
   "execution_count": 30,
   "id": "acef3702",
   "metadata": {},
   "outputs": [
    {
     "name": "stdout",
     "output_type": "stream",
     "text": [
      "<class 'pandas.core.frame.DataFrame'>\n",
      "RangeIndex: 51846 entries, 0 to 51845\n",
      "Data columns (total 11 columns):\n",
      " #   Column          Non-Null Count  Dtype         \n",
      "---  ------          --------------  -----         \n",
      " 0   Timestamp       51846 non-null  datetime64[ns]\n",
      " 1   .FI_325         51846 non-null  object        \n",
      " 2   .[FFIC_324.PV]  51846 non-null  object        \n",
      " 3   .TASA_INST      51846 non-null  object        \n",
      " 4   .[WIC_135.PV]   51846 non-null  object        \n",
      " 5   .[WIC_134.PV]   51846 non-null  object        \n",
      " 6   .TIR_311        51846 non-null  object        \n",
      " 7   .TIR_313        51846 non-null  object        \n",
      " 8   escoria_FE      51846 non-null  float64       \n",
      " 9   MB_Cu           51846 non-null  float64       \n",
      " 10  Fecha           51846 non-null  datetime64[ns]\n",
      "dtypes: datetime64[ns](2), float64(2), object(7)\n",
      "memory usage: 4.4+ MB\n"
     ]
    }
   ],
   "source": [
    "merge.info()"
   ]
  },
  {
   "cell_type": "code",
   "execution_count": 31,
   "id": "adae73f9",
   "metadata": {},
   "outputs": [
    {
     "name": "stdout",
     "output_type": "stream",
     "text": [
      "<class 'pandas.core.frame.DataFrame'>\n",
      "RangeIndex: 181 entries, 0 to 180\n",
      "Data columns (total 3 columns):\n",
      " #   Column  Non-Null Count  Dtype         \n",
      "---  ------  --------------  -----         \n",
      " 0   Fecha   181 non-null    datetime64[ns]\n",
      " 1   Nombre  181 non-null    object        \n",
      " 2   Con_S   181 non-null    float64       \n",
      "dtypes: datetime64[ns](1), float64(1), object(1)\n",
      "memory usage: 4.4+ KB\n"
     ]
    }
   ],
   "source": [
    "Con_S.info()"
   ]
  },
  {
   "cell_type": "code",
   "execution_count": 32,
   "id": "dd4c712f",
   "metadata": {},
   "outputs": [],
   "source": [
    "merge = pd.merge(merge,Con_S, how='left', on = 'Fecha')"
   ]
  },
  {
   "cell_type": "code",
   "execution_count": 33,
   "id": "e80b2491",
   "metadata": {},
   "outputs": [],
   "source": [
    "merge = pd.merge(merge,Con_cu, how='left', on = 'Fecha')"
   ]
  },
  {
   "cell_type": "code",
   "execution_count": 34,
   "id": "6663eef6",
   "metadata": {},
   "outputs": [],
   "source": [
    "merge.drop(['Nombre_x', 'Nombre_y'], axis=1, inplace=True)"
   ]
  },
  {
   "cell_type": "code",
   "execution_count": 35,
   "id": "ac8a2fda",
   "metadata": {},
   "outputs": [
    {
     "data": {
      "text/html": [
       "<div>\n",
       "<style scoped>\n",
       "    .dataframe tbody tr th:only-of-type {\n",
       "        vertical-align: middle;\n",
       "    }\n",
       "\n",
       "    .dataframe tbody tr th {\n",
       "        vertical-align: top;\n",
       "    }\n",
       "\n",
       "    .dataframe thead th {\n",
       "        text-align: right;\n",
       "    }\n",
       "</style>\n",
       "<table border=\"1\" class=\"dataframe\">\n",
       "  <thead>\n",
       "    <tr style=\"text-align: right;\">\n",
       "      <th></th>\n",
       "      <th>Timestamp</th>\n",
       "      <th>.FI_325</th>\n",
       "      <th>.[FFIC_324.PV]</th>\n",
       "      <th>.TASA_INST</th>\n",
       "      <th>.[WIC_135.PV]</th>\n",
       "      <th>.[WIC_134.PV]</th>\n",
       "      <th>.TIR_311</th>\n",
       "      <th>.TIR_313</th>\n",
       "      <th>escoria_FE</th>\n",
       "      <th>MB_Cu</th>\n",
       "      <th>Fecha</th>\n",
       "      <th>Con_S</th>\n",
       "      <th>Con_cu</th>\n",
       "    </tr>\n",
       "  </thead>\n",
       "  <tbody>\n",
       "    <tr>\n",
       "      <th>0</th>\n",
       "      <td>2023-01-01 00:05:00</td>\n",
       "      <td>497.82298</td>\n",
       "      <td>37.975855</td>\n",
       "      <td>67.040951</td>\n",
       "      <td>4.868728</td>\n",
       "      <td>2.272423</td>\n",
       "      <td>1239.551086</td>\n",
       "      <td>1242.537354</td>\n",
       "      <td>21.1</td>\n",
       "      <td>63.98</td>\n",
       "      <td>2023-01-01</td>\n",
       "      <td>32.0</td>\n",
       "      <td>22.5</td>\n",
       "    </tr>\n",
       "    <tr>\n",
       "      <th>1</th>\n",
       "      <td>2023-01-01 00:10:00</td>\n",
       "      <td>490.657786</td>\n",
       "      <td>38.31309</td>\n",
       "      <td>48.213518</td>\n",
       "      <td>6.274582</td>\n",
       "      <td>3.707383</td>\n",
       "      <td>1239.545825</td>\n",
       "      <td>1242.556079</td>\n",
       "      <td>21.1</td>\n",
       "      <td>63.98</td>\n",
       "      <td>2023-01-01</td>\n",
       "      <td>32.0</td>\n",
       "      <td>22.5</td>\n",
       "    </tr>\n",
       "    <tr>\n",
       "      <th>2</th>\n",
       "      <td>2023-01-01 00:15:00</td>\n",
       "      <td>411.457943</td>\n",
       "      <td>27.15304</td>\n",
       "      <td>61.80843</td>\n",
       "      <td>4.291978</td>\n",
       "      <td>2.740755</td>\n",
       "      <td>1239.564771</td>\n",
       "      <td>1242.520361</td>\n",
       "      <td>21.1</td>\n",
       "      <td>63.98</td>\n",
       "      <td>2023-01-01</td>\n",
       "      <td>32.0</td>\n",
       "      <td>22.5</td>\n",
       "    </tr>\n",
       "    <tr>\n",
       "      <th>3</th>\n",
       "      <td>2023-01-01 00:20:00</td>\n",
       "      <td>0</td>\n",
       "      <td>21</td>\n",
       "      <td>0</td>\n",
       "      <td>0.00222</td>\n",
       "      <td>0.003208</td>\n",
       "      <td>1239.557458</td>\n",
       "      <td>1242.529431</td>\n",
       "      <td>21.1</td>\n",
       "      <td>63.98</td>\n",
       "      <td>2023-01-01</td>\n",
       "      <td>32.0</td>\n",
       "      <td>22.5</td>\n",
       "    </tr>\n",
       "    <tr>\n",
       "      <th>4</th>\n",
       "      <td>2023-01-01 00:25:00</td>\n",
       "      <td>0</td>\n",
       "      <td>21</td>\n",
       "      <td>0</td>\n",
       "      <td>0.002117</td>\n",
       "      <td>0.003212</td>\n",
       "      <td>1239.556494</td>\n",
       "      <td>1242.52572</td>\n",
       "      <td>21.6</td>\n",
       "      <td>63.98</td>\n",
       "      <td>2023-01-01</td>\n",
       "      <td>32.0</td>\n",
       "      <td>22.5</td>\n",
       "    </tr>\n",
       "  </tbody>\n",
       "</table>\n",
       "</div>"
      ],
      "text/plain": [
       "            Timestamp     .FI_325 .[FFIC_324.PV] .TASA_INST .[WIC_135.PV]  \\\n",
       "0 2023-01-01 00:05:00   497.82298      37.975855  67.040951      4.868728   \n",
       "1 2023-01-01 00:10:00  490.657786       38.31309  48.213518      6.274582   \n",
       "2 2023-01-01 00:15:00  411.457943       27.15304   61.80843      4.291978   \n",
       "3 2023-01-01 00:20:00           0             21          0       0.00222   \n",
       "4 2023-01-01 00:25:00           0             21          0      0.002117   \n",
       "\n",
       "  .[WIC_134.PV]     .TIR_311     .TIR_313  escoria_FE  MB_Cu      Fecha  \\\n",
       "0      2.272423  1239.551086  1242.537354        21.1  63.98 2023-01-01   \n",
       "1      3.707383  1239.545825  1242.556079        21.1  63.98 2023-01-01   \n",
       "2      2.740755  1239.564771  1242.520361        21.1  63.98 2023-01-01   \n",
       "3      0.003208  1239.557458  1242.529431        21.1  63.98 2023-01-01   \n",
       "4      0.003212  1239.556494   1242.52572        21.6  63.98 2023-01-01   \n",
       "\n",
       "   Con_S  Con_cu  \n",
       "0   32.0    22.5  \n",
       "1   32.0    22.5  \n",
       "2   32.0    22.5  \n",
       "3   32.0    22.5  \n",
       "4   32.0    22.5  "
      ]
     },
     "execution_count": 35,
     "metadata": {},
     "output_type": "execute_result"
    }
   ],
   "source": [
    "merge.head()"
   ]
  },
  {
   "cell_type": "code",
   "execution_count": 36,
   "id": "548a6460",
   "metadata": {},
   "outputs": [],
   "source": [
    "# Cambio de nombre de variables\n",
    "merge.rename(columns={'.FI_325':'Flujo_aire', '.[FFIC_324.PV]':'Enr_oxigeno', '.TASA_INST':'Alimentacion_con', \n",
    "                        '.[WIC_135.PV]':'Alimentacion_Si02','.[WIC_134.PV]':'carga_fria', '.TIR_311':'t°_MB',\n",
    "                         '.TIR_313':'t°_esc'}, inplace = True)"
   ]
  },
  {
   "cell_type": "code",
   "execution_count": 37,
   "id": "1bb8d580",
   "metadata": {},
   "outputs": [
    {
     "data": {
      "text/html": [
       "<div>\n",
       "<style scoped>\n",
       "    .dataframe tbody tr th:only-of-type {\n",
       "        vertical-align: middle;\n",
       "    }\n",
       "\n",
       "    .dataframe tbody tr th {\n",
       "        vertical-align: top;\n",
       "    }\n",
       "\n",
       "    .dataframe thead th {\n",
       "        text-align: right;\n",
       "    }\n",
       "</style>\n",
       "<table border=\"1\" class=\"dataframe\">\n",
       "  <thead>\n",
       "    <tr style=\"text-align: right;\">\n",
       "      <th></th>\n",
       "      <th>Timestamp</th>\n",
       "      <th>Flujo_aire</th>\n",
       "      <th>Enr_oxigeno</th>\n",
       "      <th>Alimentacion_con</th>\n",
       "      <th>Alimentacion_Si02</th>\n",
       "      <th>carga_fria</th>\n",
       "      <th>t°_MB</th>\n",
       "      <th>t°_esc</th>\n",
       "      <th>escoria_FE</th>\n",
       "      <th>MB_Cu</th>\n",
       "      <th>Fecha</th>\n",
       "      <th>Con_S</th>\n",
       "      <th>Con_cu</th>\n",
       "    </tr>\n",
       "  </thead>\n",
       "  <tbody>\n",
       "    <tr>\n",
       "      <th>0</th>\n",
       "      <td>2023-01-01 00:05:00</td>\n",
       "      <td>497.82298</td>\n",
       "      <td>37.975855</td>\n",
       "      <td>67.040951</td>\n",
       "      <td>4.868728</td>\n",
       "      <td>2.272423</td>\n",
       "      <td>1239.551086</td>\n",
       "      <td>1242.537354</td>\n",
       "      <td>21.1</td>\n",
       "      <td>63.98</td>\n",
       "      <td>2023-01-01</td>\n",
       "      <td>32.0</td>\n",
       "      <td>22.5</td>\n",
       "    </tr>\n",
       "    <tr>\n",
       "      <th>1</th>\n",
       "      <td>2023-01-01 00:10:00</td>\n",
       "      <td>490.657786</td>\n",
       "      <td>38.31309</td>\n",
       "      <td>48.213518</td>\n",
       "      <td>6.274582</td>\n",
       "      <td>3.707383</td>\n",
       "      <td>1239.545825</td>\n",
       "      <td>1242.556079</td>\n",
       "      <td>21.1</td>\n",
       "      <td>63.98</td>\n",
       "      <td>2023-01-01</td>\n",
       "      <td>32.0</td>\n",
       "      <td>22.5</td>\n",
       "    </tr>\n",
       "    <tr>\n",
       "      <th>2</th>\n",
       "      <td>2023-01-01 00:15:00</td>\n",
       "      <td>411.457943</td>\n",
       "      <td>27.15304</td>\n",
       "      <td>61.80843</td>\n",
       "      <td>4.291978</td>\n",
       "      <td>2.740755</td>\n",
       "      <td>1239.564771</td>\n",
       "      <td>1242.520361</td>\n",
       "      <td>21.1</td>\n",
       "      <td>63.98</td>\n",
       "      <td>2023-01-01</td>\n",
       "      <td>32.0</td>\n",
       "      <td>22.5</td>\n",
       "    </tr>\n",
       "    <tr>\n",
       "      <th>3</th>\n",
       "      <td>2023-01-01 00:20:00</td>\n",
       "      <td>0</td>\n",
       "      <td>21</td>\n",
       "      <td>0</td>\n",
       "      <td>0.00222</td>\n",
       "      <td>0.003208</td>\n",
       "      <td>1239.557458</td>\n",
       "      <td>1242.529431</td>\n",
       "      <td>21.1</td>\n",
       "      <td>63.98</td>\n",
       "      <td>2023-01-01</td>\n",
       "      <td>32.0</td>\n",
       "      <td>22.5</td>\n",
       "    </tr>\n",
       "    <tr>\n",
       "      <th>4</th>\n",
       "      <td>2023-01-01 00:25:00</td>\n",
       "      <td>0</td>\n",
       "      <td>21</td>\n",
       "      <td>0</td>\n",
       "      <td>0.002117</td>\n",
       "      <td>0.003212</td>\n",
       "      <td>1239.556494</td>\n",
       "      <td>1242.52572</td>\n",
       "      <td>21.6</td>\n",
       "      <td>63.98</td>\n",
       "      <td>2023-01-01</td>\n",
       "      <td>32.0</td>\n",
       "      <td>22.5</td>\n",
       "    </tr>\n",
       "  </tbody>\n",
       "</table>\n",
       "</div>"
      ],
      "text/plain": [
       "            Timestamp  Flujo_aire Enr_oxigeno Alimentacion_con  \\\n",
       "0 2023-01-01 00:05:00   497.82298   37.975855        67.040951   \n",
       "1 2023-01-01 00:10:00  490.657786    38.31309        48.213518   \n",
       "2 2023-01-01 00:15:00  411.457943    27.15304         61.80843   \n",
       "3 2023-01-01 00:20:00           0          21                0   \n",
       "4 2023-01-01 00:25:00           0          21                0   \n",
       "\n",
       "  Alimentacion_Si02 carga_fria        t°_MB       t°_esc  escoria_FE  MB_Cu  \\\n",
       "0          4.868728   2.272423  1239.551086  1242.537354        21.1  63.98   \n",
       "1          6.274582   3.707383  1239.545825  1242.556079        21.1  63.98   \n",
       "2          4.291978   2.740755  1239.564771  1242.520361        21.1  63.98   \n",
       "3           0.00222   0.003208  1239.557458  1242.529431        21.1  63.98   \n",
       "4          0.002117   0.003212  1239.556494   1242.52572        21.6  63.98   \n",
       "\n",
       "       Fecha  Con_S  Con_cu  \n",
       "0 2023-01-01   32.0    22.5  \n",
       "1 2023-01-01   32.0    22.5  \n",
       "2 2023-01-01   32.0    22.5  \n",
       "3 2023-01-01   32.0    22.5  \n",
       "4 2023-01-01   32.0    22.5  "
      ]
     },
     "execution_count": 37,
     "metadata": {},
     "output_type": "execute_result"
    }
   ],
   "source": [
    "merge.head()"
   ]
  },
  {
   "cell_type": "code",
   "execution_count": null,
   "id": "cea8e1cf",
   "metadata": {},
   "outputs": [],
   "source": [
    "#Guardar archivo\n",
    "merge.to_csv('documentos/completos/df_2023.csv')"
   ]
  },
  {
   "cell_type": "code",
   "execution_count": null,
   "id": "5b49616e",
   "metadata": {},
   "outputs": [],
   "source": []
  },
  {
   "cell_type": "code",
   "execution_count": null,
   "id": "0d62e373",
   "metadata": {},
   "outputs": [],
   "source": [
    "## union data 2021 a 2023"
   ]
  },
  {
   "cell_type": "code",
   "execution_count": 38,
   "id": "ec11dc4a",
   "metadata": {},
   "outputs": [],
   "source": [
    "df_2021_2023 = pd.read_csv('documentos/completos/df_total.csv', sep=';')"
   ]
  },
  {
   "cell_type": "code",
   "execution_count": 39,
   "id": "fb62b68a",
   "metadata": {},
   "outputs": [],
   "source": [
    "df_2021_2023.fillna(0, inplace=True)"
   ]
  },
  {
   "cell_type": "code",
   "execution_count": 41,
   "id": "75b98464",
   "metadata": {},
   "outputs": [],
   "source": [
    "MB_Cu_2021_22 = pd.read_excel(\"documentos/Leyes 2021-2022..xlsx\", sheet_name = 'Ley Cu_MB')"
   ]
  },
  {
   "cell_type": "code",
   "execution_count": 42,
   "id": "4fbf626a",
   "metadata": {},
   "outputs": [],
   "source": [
    "escoria_fe_2022 = pd.read_excel(\"documentos/Leyes 2021-2022..xlsx\", sheet_name = 'Ley Fe3O4_Escoria')\n",
    "escoria_fe_2021 = pd.read_excel(\"documentos/Fe3O4_2021.xlsx\")"
   ]
  },
  {
   "cell_type": "code",
   "execution_count": 43,
   "id": "26ae23b8",
   "metadata": {},
   "outputs": [],
   "source": [
    "# ley cobre de MB y ley Fe304 de escoria 2023\n",
    "escoria_FE_2023 = pd.read_excel(\"documentos/2023/Leyes.xlsx\", skiprows=1, sheet_name = 'Ley Fe3O4_Escoria')\n",
    "MB_Cu_2023 = pd.read_excel(\"documentos/2023/Leyes.xlsx\", skiprows=2, sheet_name = 'Ley Cu_MB')"
   ]
  },
  {
   "cell_type": "code",
   "execution_count": 44,
   "id": "54cfd7c3",
   "metadata": {},
   "outputs": [],
   "source": [
    "### unir cu mb 2021-2023"
   ]
  },
  {
   "cell_type": "code",
   "execution_count": 45,
   "id": "0d00adf7",
   "metadata": {},
   "outputs": [],
   "source": [
    "MB_Cu_2023.drop(['Unnamed: 0', 'Equipo', 'Producto'], axis=1, inplace=True)\n",
    "MB_Cu_2021_22.drop('Ensaye', axis=1, inplace=True)"
   ]
  },
  {
   "cell_type": "code",
   "execution_count": 46,
   "id": "0163d959",
   "metadata": {},
   "outputs": [],
   "source": [
    "MB_Cu_2021_22.dropna(inplace=True)"
   ]
  },
  {
   "cell_type": "code",
   "execution_count": 47,
   "id": "dde6fc33",
   "metadata": {},
   "outputs": [],
   "source": [
    "MB_Cu = pd.concat([MB_Cu_2021_22, MB_Cu_2023])"
   ]
  },
  {
   "cell_type": "code",
   "execution_count": null,
   "id": "e1159e47",
   "metadata": {},
   "outputs": [],
   "source": [
    "### unir fe302 esc 2021-2023"
   ]
  },
  {
   "cell_type": "code",
   "execution_count": 49,
   "id": "44b09f71",
   "metadata": {},
   "outputs": [],
   "source": [
    "escoria_fe_2021.drop('Ensaye', axis=1, inplace=True)\n",
    "escoria_fe_2022.drop('Ensaye', axis=1, inplace=True)\n",
    "escoria_FE_2023.drop(['Unnamed: 0', 'Equipo', 'Producto'], axis=1, inplace=True)"
   ]
  },
  {
   "cell_type": "code",
   "execution_count": 50,
   "id": "e13a7405",
   "metadata": {},
   "outputs": [],
   "source": [
    "escoria_fe_2021.dropna(inplace=True)"
   ]
  },
  {
   "cell_type": "code",
   "execution_count": 51,
   "id": "56844500",
   "metadata": {},
   "outputs": [],
   "source": [
    "ESC_FE302 = pd.concat([escoria_fe_2021, escoria_fe_2022])"
   ]
  },
  {
   "cell_type": "code",
   "execution_count": 52,
   "id": "559ec722",
   "metadata": {},
   "outputs": [],
   "source": [
    "ESC_FE302 = pd.concat([ESC_FE302, escoria_FE_2023])"
   ]
  },
  {
   "cell_type": "code",
   "execution_count": null,
   "id": "58318cd0",
   "metadata": {},
   "outputs": [],
   "source": [
    "#unir a todo"
   ]
  },
  {
   "cell_type": "code",
   "execution_count": 53,
   "id": "e1a41daf",
   "metadata": {},
   "outputs": [],
   "source": [
    "MB_Cu['Timestamp'] = MB_Cu['Fecha'].astype(str)+' '+MB_Cu['Hora'].astype(str)\n",
    "ESC_FE302['Timestamp'] = ESC_FE302['Fecha'].astype(str)+' '+ESC_FE302['Hora'].astype(str)"
   ]
  },
  {
   "cell_type": "code",
   "execution_count": 54,
   "id": "132b1c05",
   "metadata": {},
   "outputs": [],
   "source": [
    "MB_Cu['Timestamp'] = pd.to_datetime(MB_Cu['Timestamp'])\n",
    "ESC_FE302['Timestamp'] = pd.to_datetime(ESC_FE302['Timestamp'])"
   ]
  },
  {
   "cell_type": "code",
   "execution_count": 55,
   "id": "daf189cf",
   "metadata": {},
   "outputs": [],
   "source": [
    "ESC_FE302.rename(columns={'Valor':'ESC_FE'}, inplace=True)\n",
    "MB_Cu.rename(columns={'Valor':'MB_Cu'}, inplace=True)"
   ]
  },
  {
   "cell_type": "code",
   "execution_count": 56,
   "id": "dba77016",
   "metadata": {},
   "outputs": [],
   "source": [
    "ESC_FE302.drop(['Fecha', 'Hora'], axis=1, inplace=True)\n",
    "MB_Cu.drop(['Fecha', 'Hora'], axis=1, inplace=True)"
   ]
  },
  {
   "cell_type": "code",
   "execution_count": 57,
   "id": "25fe1b35",
   "metadata": {},
   "outputs": [],
   "source": [
    "df_2021_2023['TimeStamp'] = pd.to_datetime(df_2021_2023['TimeStamp'], dayfirst=True)"
   ]
  },
  {
   "cell_type": "code",
   "execution_count": 58,
   "id": "b14b6e07",
   "metadata": {},
   "outputs": [],
   "source": [
    "df_2021_2023['TimeStamp'] = df_2021_2023['TimeStamp'] + timedelta(minutes=1)"
   ]
  },
  {
   "cell_type": "code",
   "execution_count": 59,
   "id": "2debc84c",
   "metadata": {},
   "outputs": [],
   "source": [
    "df_2021_2023.rename(columns={'TimeStamp':'Timestamp'}, inplace=True)"
   ]
  },
  {
   "cell_type": "code",
   "execution_count": 60,
   "id": "89054145",
   "metadata": {},
   "outputs": [
    {
     "data": {
      "text/html": [
       "<div>\n",
       "<style scoped>\n",
       "    .dataframe tbody tr th:only-of-type {\n",
       "        vertical-align: middle;\n",
       "    }\n",
       "\n",
       "    .dataframe tbody tr th {\n",
       "        vertical-align: top;\n",
       "    }\n",
       "\n",
       "    .dataframe thead th {\n",
       "        text-align: right;\n",
       "    }\n",
       "</style>\n",
       "<table border=\"1\" class=\"dataframe\">\n",
       "  <thead>\n",
       "    <tr style=\"text-align: right;\">\n",
       "      <th></th>\n",
       "      <th>Timestamp</th>\n",
       "      <th>Flujo aire</th>\n",
       "      <th>enriquecimiento oxigeno</th>\n",
       "      <th>TASA_alimentacion_conc</th>\n",
       "      <th>alimentacion Si02</th>\n",
       "      <th>alimentacion carga fria</th>\n",
       "      <th>t MB</th>\n",
       "      <th>t ESC</th>\n",
       "      <th>TimeStamp_2</th>\n",
       "      <th>conc_s</th>\n",
       "      <th>conc_cu</th>\n",
       "      <th>escoria_FE304</th>\n",
       "      <th>mb_cu</th>\n",
       "    </tr>\n",
       "  </thead>\n",
       "  <tbody>\n",
       "    <tr>\n",
       "      <th>0</th>\n",
       "      <td>2021-07-01 00:05:00</td>\n",
       "      <td>0.0</td>\n",
       "      <td>21.0</td>\n",
       "      <td>0.0</td>\n",
       "      <td>0.0</td>\n",
       "      <td>0.0</td>\n",
       "      <td>0.000092</td>\n",
       "      <td>0.000092</td>\n",
       "      <td>01-07-2021</td>\n",
       "      <td>0.0</td>\n",
       "      <td>0.0</td>\n",
       "      <td>0.0</td>\n",
       "      <td>0.0</td>\n",
       "    </tr>\n",
       "    <tr>\n",
       "      <th>1</th>\n",
       "      <td>2021-07-01 00:10:00</td>\n",
       "      <td>0.0</td>\n",
       "      <td>21.0</td>\n",
       "      <td>0.0</td>\n",
       "      <td>0.0</td>\n",
       "      <td>0.0</td>\n",
       "      <td>0.000092</td>\n",
       "      <td>0.000092</td>\n",
       "      <td>01-07-2021</td>\n",
       "      <td>0.0</td>\n",
       "      <td>0.0</td>\n",
       "      <td>0.0</td>\n",
       "      <td>0.0</td>\n",
       "    </tr>\n",
       "    <tr>\n",
       "      <th>2</th>\n",
       "      <td>2021-07-01 00:15:00</td>\n",
       "      <td>0.0</td>\n",
       "      <td>21.0</td>\n",
       "      <td>0.0</td>\n",
       "      <td>0.0</td>\n",
       "      <td>0.0</td>\n",
       "      <td>0.000092</td>\n",
       "      <td>0.000092</td>\n",
       "      <td>01-07-2021</td>\n",
       "      <td>0.0</td>\n",
       "      <td>0.0</td>\n",
       "      <td>0.0</td>\n",
       "      <td>0.0</td>\n",
       "    </tr>\n",
       "    <tr>\n",
       "      <th>3</th>\n",
       "      <td>2021-07-01 00:20:00</td>\n",
       "      <td>0.0</td>\n",
       "      <td>21.0</td>\n",
       "      <td>0.0</td>\n",
       "      <td>0.0</td>\n",
       "      <td>0.0</td>\n",
       "      <td>0.000092</td>\n",
       "      <td>0.000092</td>\n",
       "      <td>01-07-2021</td>\n",
       "      <td>0.0</td>\n",
       "      <td>0.0</td>\n",
       "      <td>0.0</td>\n",
       "      <td>0.0</td>\n",
       "    </tr>\n",
       "    <tr>\n",
       "      <th>4</th>\n",
       "      <td>2021-07-01 00:25:00</td>\n",
       "      <td>0.0</td>\n",
       "      <td>21.0</td>\n",
       "      <td>0.0</td>\n",
       "      <td>0.0</td>\n",
       "      <td>0.0</td>\n",
       "      <td>0.000092</td>\n",
       "      <td>0.000092</td>\n",
       "      <td>01-07-2021</td>\n",
       "      <td>0.0</td>\n",
       "      <td>0.0</td>\n",
       "      <td>0.0</td>\n",
       "      <td>0.0</td>\n",
       "    </tr>\n",
       "  </tbody>\n",
       "</table>\n",
       "</div>"
      ],
      "text/plain": [
       "            Timestamp  Flujo aire  enriquecimiento oxigeno  \\\n",
       "0 2021-07-01 00:05:00         0.0                     21.0   \n",
       "1 2021-07-01 00:10:00         0.0                     21.0   \n",
       "2 2021-07-01 00:15:00         0.0                     21.0   \n",
       "3 2021-07-01 00:20:00         0.0                     21.0   \n",
       "4 2021-07-01 00:25:00         0.0                     21.0   \n",
       "\n",
       "   TASA_alimentacion_conc  alimentacion Si02  alimentacion carga fria  \\\n",
       "0                     0.0                0.0                      0.0   \n",
       "1                     0.0                0.0                      0.0   \n",
       "2                     0.0                0.0                      0.0   \n",
       "3                     0.0                0.0                      0.0   \n",
       "4                     0.0                0.0                      0.0   \n",
       "\n",
       "       t MB     t ESC TimeStamp_2  conc_s  conc_cu  escoria_FE304  mb_cu  \n",
       "0  0.000092  0.000092  01-07-2021     0.0      0.0            0.0    0.0  \n",
       "1  0.000092  0.000092  01-07-2021     0.0      0.0            0.0    0.0  \n",
       "2  0.000092  0.000092  01-07-2021     0.0      0.0            0.0    0.0  \n",
       "3  0.000092  0.000092  01-07-2021     0.0      0.0            0.0    0.0  \n",
       "4  0.000092  0.000092  01-07-2021     0.0      0.0            0.0    0.0  "
      ]
     },
     "execution_count": 60,
     "metadata": {},
     "output_type": "execute_result"
    }
   ],
   "source": [
    "df_2021_2023.head()"
   ]
  },
  {
   "cell_type": "code",
   "execution_count": null,
   "id": "b493e785",
   "metadata": {},
   "outputs": [],
   "source": [
    "MB_Cu[~MB_Cu['Timestamp'].isin(df_2021_2023['Timestamp'])] #31-08-2021 y 31-01-2023 no existen"
   ]
  },
  {
   "cell_type": "code",
   "execution_count": null,
   "id": "6f15aec7",
   "metadata": {},
   "outputs": [],
   "source": [
    "ESC_FE302[~ESC_FE302['Timestamp'].isin(df_2021_2023['Timestamp'])]"
   ]
  },
  {
   "cell_type": "code",
   "execution_count": 61,
   "id": "19b6a861",
   "metadata": {},
   "outputs": [],
   "source": [
    "Merge = pd.merge(df_2021_2023,MB_Cu, how='left', on = 'Timestamp')"
   ]
  },
  {
   "cell_type": "code",
   "execution_count": 62,
   "id": "f5f26336",
   "metadata": {},
   "outputs": [],
   "source": [
    "Merge = pd.merge(Merge,ESC_FE302, how='left', on = 'Timestamp')"
   ]
  },
  {
   "cell_type": "code",
   "execution_count": 63,
   "id": "7c300b94",
   "metadata": {},
   "outputs": [],
   "source": [
    "Merge['ESC_FE'] = Merge['ESC_FE'].fillna(method='backfill')\n",
    "Merge['MB_Cu'] = Merge['MB_Cu'].fillna(method='backfill')"
   ]
  },
  {
   "cell_type": "code",
   "execution_count": 64,
   "id": "e39229e9",
   "metadata": {},
   "outputs": [],
   "source": [
    "Merge['ESC_FE'] = Merge['ESC_FE'].fillna(method='ffill')\n",
    "Merge['MB_Cu'] = Merge['MB_Cu'].fillna(method='ffill')"
   ]
  },
  {
   "cell_type": "code",
   "execution_count": 65,
   "id": "c58e34a5",
   "metadata": {},
   "outputs": [],
   "source": [
    "Merge.drop(['mb_cu', 'escoria_FE304'], axis=1, inplace= True)"
   ]
  },
  {
   "cell_type": "code",
   "execution_count": 66,
   "id": "8cf11f26",
   "metadata": {},
   "outputs": [
    {
     "data": {
      "text/html": [
       "<div>\n",
       "<style scoped>\n",
       "    .dataframe tbody tr th:only-of-type {\n",
       "        vertical-align: middle;\n",
       "    }\n",
       "\n",
       "    .dataframe tbody tr th {\n",
       "        vertical-align: top;\n",
       "    }\n",
       "\n",
       "    .dataframe thead th {\n",
       "        text-align: right;\n",
       "    }\n",
       "</style>\n",
       "<table border=\"1\" class=\"dataframe\">\n",
       "  <thead>\n",
       "    <tr style=\"text-align: right;\">\n",
       "      <th></th>\n",
       "      <th>Timestamp</th>\n",
       "      <th>Flujo aire</th>\n",
       "      <th>enriquecimiento oxigeno</th>\n",
       "      <th>TASA_alimentacion_conc</th>\n",
       "      <th>alimentacion Si02</th>\n",
       "      <th>alimentacion carga fria</th>\n",
       "      <th>t MB</th>\n",
       "      <th>t ESC</th>\n",
       "      <th>TimeStamp_2</th>\n",
       "      <th>conc_s</th>\n",
       "      <th>conc_cu</th>\n",
       "      <th>MB_Cu</th>\n",
       "      <th>ESC_FE</th>\n",
       "    </tr>\n",
       "  </thead>\n",
       "  <tbody>\n",
       "    <tr>\n",
       "      <th>0</th>\n",
       "      <td>2021-07-01 00:05:00</td>\n",
       "      <td>0.0</td>\n",
       "      <td>21.0</td>\n",
       "      <td>0.0</td>\n",
       "      <td>0.0</td>\n",
       "      <td>0.0</td>\n",
       "      <td>0.000092</td>\n",
       "      <td>0.000092</td>\n",
       "      <td>01-07-2021</td>\n",
       "      <td>0.0</td>\n",
       "      <td>0.0</td>\n",
       "      <td>74.309998</td>\n",
       "      <td>38.099998</td>\n",
       "    </tr>\n",
       "    <tr>\n",
       "      <th>1</th>\n",
       "      <td>2021-07-01 00:10:00</td>\n",
       "      <td>0.0</td>\n",
       "      <td>21.0</td>\n",
       "      <td>0.0</td>\n",
       "      <td>0.0</td>\n",
       "      <td>0.0</td>\n",
       "      <td>0.000092</td>\n",
       "      <td>0.000092</td>\n",
       "      <td>01-07-2021</td>\n",
       "      <td>0.0</td>\n",
       "      <td>0.0</td>\n",
       "      <td>74.309998</td>\n",
       "      <td>38.099998</td>\n",
       "    </tr>\n",
       "    <tr>\n",
       "      <th>2</th>\n",
       "      <td>2021-07-01 00:15:00</td>\n",
       "      <td>0.0</td>\n",
       "      <td>21.0</td>\n",
       "      <td>0.0</td>\n",
       "      <td>0.0</td>\n",
       "      <td>0.0</td>\n",
       "      <td>0.000092</td>\n",
       "      <td>0.000092</td>\n",
       "      <td>01-07-2021</td>\n",
       "      <td>0.0</td>\n",
       "      <td>0.0</td>\n",
       "      <td>74.309998</td>\n",
       "      <td>38.099998</td>\n",
       "    </tr>\n",
       "    <tr>\n",
       "      <th>3</th>\n",
       "      <td>2021-07-01 00:20:00</td>\n",
       "      <td>0.0</td>\n",
       "      <td>21.0</td>\n",
       "      <td>0.0</td>\n",
       "      <td>0.0</td>\n",
       "      <td>0.0</td>\n",
       "      <td>0.000092</td>\n",
       "      <td>0.000092</td>\n",
       "      <td>01-07-2021</td>\n",
       "      <td>0.0</td>\n",
       "      <td>0.0</td>\n",
       "      <td>74.309998</td>\n",
       "      <td>38.099998</td>\n",
       "    </tr>\n",
       "    <tr>\n",
       "      <th>4</th>\n",
       "      <td>2021-07-01 00:25:00</td>\n",
       "      <td>0.0</td>\n",
       "      <td>21.0</td>\n",
       "      <td>0.0</td>\n",
       "      <td>0.0</td>\n",
       "      <td>0.0</td>\n",
       "      <td>0.000092</td>\n",
       "      <td>0.000092</td>\n",
       "      <td>01-07-2021</td>\n",
       "      <td>0.0</td>\n",
       "      <td>0.0</td>\n",
       "      <td>74.309998</td>\n",
       "      <td>38.099998</td>\n",
       "    </tr>\n",
       "  </tbody>\n",
       "</table>\n",
       "</div>"
      ],
      "text/plain": [
       "            Timestamp  Flujo aire  enriquecimiento oxigeno  \\\n",
       "0 2021-07-01 00:05:00         0.0                     21.0   \n",
       "1 2021-07-01 00:10:00         0.0                     21.0   \n",
       "2 2021-07-01 00:15:00         0.0                     21.0   \n",
       "3 2021-07-01 00:20:00         0.0                     21.0   \n",
       "4 2021-07-01 00:25:00         0.0                     21.0   \n",
       "\n",
       "   TASA_alimentacion_conc  alimentacion Si02  alimentacion carga fria  \\\n",
       "0                     0.0                0.0                      0.0   \n",
       "1                     0.0                0.0                      0.0   \n",
       "2                     0.0                0.0                      0.0   \n",
       "3                     0.0                0.0                      0.0   \n",
       "4                     0.0                0.0                      0.0   \n",
       "\n",
       "       t MB     t ESC TimeStamp_2  conc_s  conc_cu      MB_Cu     ESC_FE  \n",
       "0  0.000092  0.000092  01-07-2021     0.0      0.0  74.309998  38.099998  \n",
       "1  0.000092  0.000092  01-07-2021     0.0      0.0  74.309998  38.099998  \n",
       "2  0.000092  0.000092  01-07-2021     0.0      0.0  74.309998  38.099998  \n",
       "3  0.000092  0.000092  01-07-2021     0.0      0.0  74.309998  38.099998  \n",
       "4  0.000092  0.000092  01-07-2021     0.0      0.0  74.309998  38.099998  "
      ]
     },
     "execution_count": 66,
     "metadata": {},
     "output_type": "execute_result"
    }
   ],
   "source": [
    "Merge.head()"
   ]
  },
  {
   "cell_type": "code",
   "execution_count": null,
   "id": "2f071813",
   "metadata": {},
   "outputs": [],
   "source": [
    "Merge.to_csv('documentos/completos/actualizado/df_21_23.csv')"
   ]
  },
  {
   "cell_type": "markdown",
   "id": "8d03c706",
   "metadata": {},
   "source": [
    "## analisis"
   ]
  },
  {
   "cell_type": "code",
   "execution_count": 67,
   "id": "91c61c61",
   "metadata": {},
   "outputs": [],
   "source": [
    "Merge = pd.read_csv('documentos/completos/actualizado/df_21_23.csv')"
   ]
  },
  {
   "cell_type": "code",
   "execution_count": 68,
   "id": "c67fb20c",
   "metadata": {},
   "outputs": [
    {
     "data": {
      "text/html": [
       "<div>\n",
       "<style scoped>\n",
       "    .dataframe tbody tr th:only-of-type {\n",
       "        vertical-align: middle;\n",
       "    }\n",
       "\n",
       "    .dataframe tbody tr th {\n",
       "        vertical-align: top;\n",
       "    }\n",
       "\n",
       "    .dataframe thead th {\n",
       "        text-align: right;\n",
       "    }\n",
       "</style>\n",
       "<table border=\"1\" class=\"dataframe\">\n",
       "  <thead>\n",
       "    <tr style=\"text-align: right;\">\n",
       "      <th></th>\n",
       "      <th>Unnamed: 0</th>\n",
       "      <th>Timestamp</th>\n",
       "      <th>Flujo aire</th>\n",
       "      <th>enriquecimiento oxigeno</th>\n",
       "      <th>TASA_alimentacion_conc</th>\n",
       "      <th>alimentacion Si02</th>\n",
       "      <th>alimentacion carga fria</th>\n",
       "      <th>t MB</th>\n",
       "      <th>t ESC</th>\n",
       "      <th>TimeStamp_2</th>\n",
       "      <th>conc_s</th>\n",
       "      <th>conc_cu</th>\n",
       "      <th>MB_Cu</th>\n",
       "      <th>ESC_FE</th>\n",
       "    </tr>\n",
       "  </thead>\n",
       "  <tbody>\n",
       "    <tr>\n",
       "      <th>0</th>\n",
       "      <td>0</td>\n",
       "      <td>2021-07-01 00:05:00</td>\n",
       "      <td>0.0</td>\n",
       "      <td>21.0</td>\n",
       "      <td>0.0</td>\n",
       "      <td>0.0</td>\n",
       "      <td>0.0</td>\n",
       "      <td>0.000092</td>\n",
       "      <td>0.000092</td>\n",
       "      <td>01-07-2021</td>\n",
       "      <td>0.0</td>\n",
       "      <td>0.0</td>\n",
       "      <td>74.309998</td>\n",
       "      <td>38.099998</td>\n",
       "    </tr>\n",
       "    <tr>\n",
       "      <th>1</th>\n",
       "      <td>1</td>\n",
       "      <td>2021-07-01 00:10:00</td>\n",
       "      <td>0.0</td>\n",
       "      <td>21.0</td>\n",
       "      <td>0.0</td>\n",
       "      <td>0.0</td>\n",
       "      <td>0.0</td>\n",
       "      <td>0.000092</td>\n",
       "      <td>0.000092</td>\n",
       "      <td>01-07-2021</td>\n",
       "      <td>0.0</td>\n",
       "      <td>0.0</td>\n",
       "      <td>74.309998</td>\n",
       "      <td>38.099998</td>\n",
       "    </tr>\n",
       "    <tr>\n",
       "      <th>2</th>\n",
       "      <td>2</td>\n",
       "      <td>2021-07-01 00:15:00</td>\n",
       "      <td>0.0</td>\n",
       "      <td>21.0</td>\n",
       "      <td>0.0</td>\n",
       "      <td>0.0</td>\n",
       "      <td>0.0</td>\n",
       "      <td>0.000092</td>\n",
       "      <td>0.000092</td>\n",
       "      <td>01-07-2021</td>\n",
       "      <td>0.0</td>\n",
       "      <td>0.0</td>\n",
       "      <td>74.309998</td>\n",
       "      <td>38.099998</td>\n",
       "    </tr>\n",
       "    <tr>\n",
       "      <th>3</th>\n",
       "      <td>3</td>\n",
       "      <td>2021-07-01 00:20:00</td>\n",
       "      <td>0.0</td>\n",
       "      <td>21.0</td>\n",
       "      <td>0.0</td>\n",
       "      <td>0.0</td>\n",
       "      <td>0.0</td>\n",
       "      <td>0.000092</td>\n",
       "      <td>0.000092</td>\n",
       "      <td>01-07-2021</td>\n",
       "      <td>0.0</td>\n",
       "      <td>0.0</td>\n",
       "      <td>74.309998</td>\n",
       "      <td>38.099998</td>\n",
       "    </tr>\n",
       "    <tr>\n",
       "      <th>4</th>\n",
       "      <td>4</td>\n",
       "      <td>2021-07-01 00:25:00</td>\n",
       "      <td>0.0</td>\n",
       "      <td>21.0</td>\n",
       "      <td>0.0</td>\n",
       "      <td>0.0</td>\n",
       "      <td>0.0</td>\n",
       "      <td>0.000092</td>\n",
       "      <td>0.000092</td>\n",
       "      <td>01-07-2021</td>\n",
       "      <td>0.0</td>\n",
       "      <td>0.0</td>\n",
       "      <td>74.309998</td>\n",
       "      <td>38.099998</td>\n",
       "    </tr>\n",
       "  </tbody>\n",
       "</table>\n",
       "</div>"
      ],
      "text/plain": [
       "   Unnamed: 0            Timestamp  Flujo aire  enriquecimiento oxigeno  \\\n",
       "0           0  2021-07-01 00:05:00         0.0                     21.0   \n",
       "1           1  2021-07-01 00:10:00         0.0                     21.0   \n",
       "2           2  2021-07-01 00:15:00         0.0                     21.0   \n",
       "3           3  2021-07-01 00:20:00         0.0                     21.0   \n",
       "4           4  2021-07-01 00:25:00         0.0                     21.0   \n",
       "\n",
       "   TASA_alimentacion_conc  alimentacion Si02  alimentacion carga fria  \\\n",
       "0                     0.0                0.0                      0.0   \n",
       "1                     0.0                0.0                      0.0   \n",
       "2                     0.0                0.0                      0.0   \n",
       "3                     0.0                0.0                      0.0   \n",
       "4                     0.0                0.0                      0.0   \n",
       "\n",
       "       t MB     t ESC TimeStamp_2  conc_s  conc_cu      MB_Cu     ESC_FE  \n",
       "0  0.000092  0.000092  01-07-2021     0.0      0.0  74.309998  38.099998  \n",
       "1  0.000092  0.000092  01-07-2021     0.0      0.0  74.309998  38.099998  \n",
       "2  0.000092  0.000092  01-07-2021     0.0      0.0  74.309998  38.099998  \n",
       "3  0.000092  0.000092  01-07-2021     0.0      0.0  74.309998  38.099998  \n",
       "4  0.000092  0.000092  01-07-2021     0.0      0.0  74.309998  38.099998  "
      ]
     },
     "execution_count": 68,
     "metadata": {},
     "output_type": "execute_result"
    }
   ],
   "source": [
    "Merge.head()"
   ]
  },
  {
   "cell_type": "code",
   "execution_count": 69,
   "id": "9ad52f46",
   "metadata": {},
   "outputs": [
    {
     "data": {
      "text/plain": [
       "<Axes: >"
      ]
     },
     "execution_count": 69,
     "metadata": {},
     "output_type": "execute_result"
    },
    {
     "data": {
      "image/png": "[encoded data removed]",
      "text/plain": [
       "<Figure size 640x480 with 1 Axes>"
      ]
     },
     "metadata": {},
     "output_type": "display_data"
    }
   ],
   "source": [
    "Merge['t MB'].hist(bins=100)"
   ]
  },
  {
   "cell_type": "code",
   "execution_count": null,
   "id": "f16eee76",
   "metadata": {},
   "outputs": [],
   "source": []
  },
  {
   "cell_type": "code",
   "execution_count": 70,
   "id": "c1bafc20",
   "metadata": {},
   "outputs": [],
   "source": [
    "Merge.loc[Merge[((Merge['t MB']>1400) | (Merge['t MB']<1200)) & (Merge['t MB']>100)].index, 't MB'] = np.nan"
   ]
  },
  {
   "cell_type": "code",
   "execution_count": 71,
   "id": "f3a8339f",
   "metadata": {},
   "outputs": [
    {
     "data": {
      "text/html": [
       "<div>\n",
       "<style scoped>\n",
       "    .dataframe tbody tr th:only-of-type {\n",
       "        vertical-align: middle;\n",
       "    }\n",
       "\n",
       "    .dataframe tbody tr th {\n",
       "        vertical-align: top;\n",
       "    }\n",
       "\n",
       "    .dataframe thead th {\n",
       "        text-align: right;\n",
       "    }\n",
       "</style>\n",
       "<table border=\"1\" class=\"dataframe\">\n",
       "  <thead>\n",
       "    <tr style=\"text-align: right;\">\n",
       "      <th></th>\n",
       "      <th>Unnamed: 0</th>\n",
       "      <th>Timestamp</th>\n",
       "      <th>Flujo aire</th>\n",
       "      <th>enriquecimiento oxigeno</th>\n",
       "      <th>TASA_alimentacion_conc</th>\n",
       "      <th>alimentacion Si02</th>\n",
       "      <th>alimentacion carga fria</th>\n",
       "      <th>t MB</th>\n",
       "      <th>t ESC</th>\n",
       "      <th>TimeStamp_2</th>\n",
       "      <th>conc_s</th>\n",
       "      <th>conc_cu</th>\n",
       "      <th>MB_Cu</th>\n",
       "      <th>ESC_FE</th>\n",
       "    </tr>\n",
       "  </thead>\n",
       "  <tbody>\n",
       "  </tbody>\n",
       "</table>\n",
       "</div>"
      ],
      "text/plain": [
       "Empty DataFrame\n",
       "Columns: [Unnamed: 0, Timestamp, Flujo aire, enriquecimiento oxigeno, TASA_alimentacion_conc, alimentacion Si02, alimentacion carga fria, t MB, t ESC, TimeStamp_2, conc_s, conc_cu, MB_Cu, ESC_FE]\n",
       "Index: []"
      ]
     },
     "execution_count": 71,
     "metadata": {},
     "output_type": "execute_result"
    }
   ],
   "source": [
    "Merge[((Merge['t MB']>1400) | (Merge['t MB']<1200)) & (Merge['t MB']>100)]"
   ]
  },
  {
   "cell_type": "code",
   "execution_count": 73,
   "id": "703ecfcb",
   "metadata": {},
   "outputs": [],
   "source": [
    "Merge['t MB'] = Merge['t MB'].fillna(method='backfill')"
   ]
  },
  {
   "cell_type": "code",
   "execution_count": 74,
   "id": "1162cf77",
   "metadata": {},
   "outputs": [
    {
     "data": {
      "text/html": [
       "<div>\n",
       "<style scoped>\n",
       "    .dataframe tbody tr th:only-of-type {\n",
       "        vertical-align: middle;\n",
       "    }\n",
       "\n",
       "    .dataframe tbody tr th {\n",
       "        vertical-align: top;\n",
       "    }\n",
       "\n",
       "    .dataframe thead th {\n",
       "        text-align: right;\n",
       "    }\n",
       "</style>\n",
       "<table border=\"1\" class=\"dataframe\">\n",
       "  <thead>\n",
       "    <tr style=\"text-align: right;\">\n",
       "      <th></th>\n",
       "      <th>Unnamed: 0</th>\n",
       "      <th>Timestamp</th>\n",
       "      <th>Flujo aire</th>\n",
       "      <th>enriquecimiento oxigeno</th>\n",
       "      <th>TASA_alimentacion_conc</th>\n",
       "      <th>alimentacion Si02</th>\n",
       "      <th>alimentacion carga fria</th>\n",
       "      <th>t MB</th>\n",
       "      <th>t ESC</th>\n",
       "      <th>TimeStamp_2</th>\n",
       "      <th>conc_s</th>\n",
       "      <th>conc_cu</th>\n",
       "      <th>MB_Cu</th>\n",
       "      <th>ESC_FE</th>\n",
       "    </tr>\n",
       "  </thead>\n",
       "  <tbody>\n",
       "  </tbody>\n",
       "</table>\n",
       "</div>"
      ],
      "text/plain": [
       "Empty DataFrame\n",
       "Columns: [Unnamed: 0, Timestamp, Flujo aire, enriquecimiento oxigeno, TASA_alimentacion_conc, alimentacion Si02, alimentacion carga fria, t MB, t ESC, TimeStamp_2, conc_s, conc_cu, MB_Cu, ESC_FE]\n",
       "Index: []"
      ]
     },
     "execution_count": 74,
     "metadata": {},
     "output_type": "execute_result"
    }
   ],
   "source": [
    "Merge[Merge['t MB'].isnull()]"
   ]
  },
  {
   "cell_type": "code",
   "execution_count": 75,
   "id": "8c6d28b9",
   "metadata": {},
   "outputs": [],
   "source": [
    "Merge.loc[Merge[((Merge['t ESC']>1400) | (Merge['t ESC']<1200)) & (Merge['t ESC']>100)].index, 't ESC'] = np.nan"
   ]
  },
  {
   "cell_type": "code",
   "execution_count": 76,
   "id": "221af784",
   "metadata": {},
   "outputs": [],
   "source": [
    "Merge['t ESC'] = Merge['t ESC'].fillna(method='backfill')"
   ]
  },
  {
   "cell_type": "code",
   "execution_count": 77,
   "id": "b32ec045",
   "metadata": {},
   "outputs": [
    {
     "data": {
      "text/html": [
       "<div>\n",
       "<style scoped>\n",
       "    .dataframe tbody tr th:only-of-type {\n",
       "        vertical-align: middle;\n",
       "    }\n",
       "\n",
       "    .dataframe tbody tr th {\n",
       "        vertical-align: top;\n",
       "    }\n",
       "\n",
       "    .dataframe thead th {\n",
       "        text-align: right;\n",
       "    }\n",
       "</style>\n",
       "<table border=\"1\" class=\"dataframe\">\n",
       "  <thead>\n",
       "    <tr style=\"text-align: right;\">\n",
       "      <th></th>\n",
       "      <th>Unnamed: 0</th>\n",
       "      <th>Timestamp</th>\n",
       "      <th>Flujo aire</th>\n",
       "      <th>enriquecimiento oxigeno</th>\n",
       "      <th>TASA_alimentacion_conc</th>\n",
       "      <th>alimentacion Si02</th>\n",
       "      <th>alimentacion carga fria</th>\n",
       "      <th>t MB</th>\n",
       "      <th>t ESC</th>\n",
       "      <th>TimeStamp_2</th>\n",
       "      <th>conc_s</th>\n",
       "      <th>conc_cu</th>\n",
       "      <th>MB_Cu</th>\n",
       "      <th>ESC_FE</th>\n",
       "    </tr>\n",
       "  </thead>\n",
       "  <tbody>\n",
       "  </tbody>\n",
       "</table>\n",
       "</div>"
      ],
      "text/plain": [
       "Empty DataFrame\n",
       "Columns: [Unnamed: 0, Timestamp, Flujo aire, enriquecimiento oxigeno, TASA_alimentacion_conc, alimentacion Si02, alimentacion carga fria, t MB, t ESC, TimeStamp_2, conc_s, conc_cu, MB_Cu, ESC_FE]\n",
       "Index: []"
      ]
     },
     "execution_count": 77,
     "metadata": {},
     "output_type": "execute_result"
    }
   ],
   "source": [
    "Merge[Merge['t ESC'].isnull()]"
   ]
  },
  {
   "cell_type": "code",
   "execution_count": 78,
   "id": "0c708b20",
   "metadata": {},
   "outputs": [
    {
     "data": {
      "text/html": [
       "<div>\n",
       "<style scoped>\n",
       "    .dataframe tbody tr th:only-of-type {\n",
       "        vertical-align: middle;\n",
       "    }\n",
       "\n",
       "    .dataframe tbody tr th {\n",
       "        vertical-align: top;\n",
       "    }\n",
       "\n",
       "    .dataframe thead th {\n",
       "        text-align: right;\n",
       "    }\n",
       "</style>\n",
       "<table border=\"1\" class=\"dataframe\">\n",
       "  <thead>\n",
       "    <tr style=\"text-align: right;\">\n",
       "      <th></th>\n",
       "      <th>Unnamed: 0</th>\n",
       "      <th>Timestamp</th>\n",
       "      <th>Flujo aire</th>\n",
       "      <th>enriquecimiento oxigeno</th>\n",
       "      <th>TASA_alimentacion_conc</th>\n",
       "      <th>alimentacion Si02</th>\n",
       "      <th>alimentacion carga fria</th>\n",
       "      <th>t MB</th>\n",
       "      <th>t ESC</th>\n",
       "      <th>TimeStamp_2</th>\n",
       "      <th>conc_s</th>\n",
       "      <th>conc_cu</th>\n",
       "      <th>MB_Cu</th>\n",
       "      <th>ESC_FE</th>\n",
       "    </tr>\n",
       "  </thead>\n",
       "  <tbody>\n",
       "    <tr>\n",
       "      <th>0</th>\n",
       "      <td>0</td>\n",
       "      <td>2021-07-01 00:05:00</td>\n",
       "      <td>0.0</td>\n",
       "      <td>21.0</td>\n",
       "      <td>0.0</td>\n",
       "      <td>0.0</td>\n",
       "      <td>0.0</td>\n",
       "      <td>0.000092</td>\n",
       "      <td>0.000092</td>\n",
       "      <td>01-07-2021</td>\n",
       "      <td>0.0</td>\n",
       "      <td>0.0</td>\n",
       "      <td>74.309998</td>\n",
       "      <td>38.099998</td>\n",
       "    </tr>\n",
       "    <tr>\n",
       "      <th>1</th>\n",
       "      <td>1</td>\n",
       "      <td>2021-07-01 00:10:00</td>\n",
       "      <td>0.0</td>\n",
       "      <td>21.0</td>\n",
       "      <td>0.0</td>\n",
       "      <td>0.0</td>\n",
       "      <td>0.0</td>\n",
       "      <td>0.000092</td>\n",
       "      <td>0.000092</td>\n",
       "      <td>01-07-2021</td>\n",
       "      <td>0.0</td>\n",
       "      <td>0.0</td>\n",
       "      <td>74.309998</td>\n",
       "      <td>38.099998</td>\n",
       "    </tr>\n",
       "    <tr>\n",
       "      <th>2</th>\n",
       "      <td>2</td>\n",
       "      <td>2021-07-01 00:15:00</td>\n",
       "      <td>0.0</td>\n",
       "      <td>21.0</td>\n",
       "      <td>0.0</td>\n",
       "      <td>0.0</td>\n",
       "      <td>0.0</td>\n",
       "      <td>0.000092</td>\n",
       "      <td>0.000092</td>\n",
       "      <td>01-07-2021</td>\n",
       "      <td>0.0</td>\n",
       "      <td>0.0</td>\n",
       "      <td>74.309998</td>\n",
       "      <td>38.099998</td>\n",
       "    </tr>\n",
       "    <tr>\n",
       "      <th>3</th>\n",
       "      <td>3</td>\n",
       "      <td>2021-07-01 00:20:00</td>\n",
       "      <td>0.0</td>\n",
       "      <td>21.0</td>\n",
       "      <td>0.0</td>\n",
       "      <td>0.0</td>\n",
       "      <td>0.0</td>\n",
       "      <td>0.000092</td>\n",
       "      <td>0.000092</td>\n",
       "      <td>01-07-2021</td>\n",
       "      <td>0.0</td>\n",
       "      <td>0.0</td>\n",
       "      <td>74.309998</td>\n",
       "      <td>38.099998</td>\n",
       "    </tr>\n",
       "    <tr>\n",
       "      <th>4</th>\n",
       "      <td>4</td>\n",
       "      <td>2021-07-01 00:25:00</td>\n",
       "      <td>0.0</td>\n",
       "      <td>21.0</td>\n",
       "      <td>0.0</td>\n",
       "      <td>0.0</td>\n",
       "      <td>0.0</td>\n",
       "      <td>0.000092</td>\n",
       "      <td>0.000092</td>\n",
       "      <td>01-07-2021</td>\n",
       "      <td>0.0</td>\n",
       "      <td>0.0</td>\n",
       "      <td>74.309998</td>\n",
       "      <td>38.099998</td>\n",
       "    </tr>\n",
       "  </tbody>\n",
       "</table>\n",
       "</div>"
      ],
      "text/plain": [
       "   Unnamed: 0            Timestamp  Flujo aire  enriquecimiento oxigeno  \\\n",
       "0           0  2021-07-01 00:05:00         0.0                     21.0   \n",
       "1           1  2021-07-01 00:10:00         0.0                     21.0   \n",
       "2           2  2021-07-01 00:15:00         0.0                     21.0   \n",
       "3           3  2021-07-01 00:20:00         0.0                     21.0   \n",
       "4           4  2021-07-01 00:25:00         0.0                     21.0   \n",
       "\n",
       "   TASA_alimentacion_conc  alimentacion Si02  alimentacion carga fria  \\\n",
       "0                     0.0                0.0                      0.0   \n",
       "1                     0.0                0.0                      0.0   \n",
       "2                     0.0                0.0                      0.0   \n",
       "3                     0.0                0.0                      0.0   \n",
       "4                     0.0                0.0                      0.0   \n",
       "\n",
       "       t MB     t ESC TimeStamp_2  conc_s  conc_cu      MB_Cu     ESC_FE  \n",
       "0  0.000092  0.000092  01-07-2021     0.0      0.0  74.309998  38.099998  \n",
       "1  0.000092  0.000092  01-07-2021     0.0      0.0  74.309998  38.099998  \n",
       "2  0.000092  0.000092  01-07-2021     0.0      0.0  74.309998  38.099998  \n",
       "3  0.000092  0.000092  01-07-2021     0.0      0.0  74.309998  38.099998  \n",
       "4  0.000092  0.000092  01-07-2021     0.0      0.0  74.309998  38.099998  "
      ]
     },
     "execution_count": 78,
     "metadata": {},
     "output_type": "execute_result"
    }
   ],
   "source": [
    "Merge.head()"
   ]
  },
  {
   "cell_type": "code",
   "execution_count": null,
   "id": "e2719da1",
   "metadata": {},
   "outputs": [],
   "source": [
    "Merge['MB_Cu'].hist(bins=100)"
   ]
  },
  {
   "cell_type": "code",
   "execution_count": null,
   "id": "d172e153",
   "metadata": {},
   "outputs": [],
   "source": [
    "Merge['t ESC'].hist(bins=100)"
   ]
  },
  {
   "cell_type": "code",
   "execution_count": 82,
   "id": "9888f8a6",
   "metadata": {},
   "outputs": [
    {
     "data": {
      "text/plain": [
       "<Axes: >"
      ]
     },
     "execution_count": 82,
     "metadata": {},
     "output_type": "execute_result"
    },
    {
     "data": {
      "image/png": "[encoded data removed]",
      "text/plain": [
       "<Figure size 1400x600 with 2 Axes>"
      ]
     },
     "metadata": {},
     "output_type": "display_data"
    }
   ],
   "source": [
    "#creacion de mapa de correlacones\n",
    "plt.figure(figsize=(14,6))\n",
    "sns.heatmap(Merge[Merge['TASA_alimentacion_conc']>0].drop(['Unnamed: 0', 'Timestamp', 'TimeStamp_2'], axis=1).corr(),cmap='coolwarm',annot=True)"
   ]
  },
  {
   "cell_type": "code",
   "execution_count": 83,
   "id": "3fda59f9",
   "metadata": {},
   "outputs": [],
   "source": [
    "Merge.drop('Unnamed: 0', axis=1, inplace=True)"
   ]
  },
  {
   "cell_type": "code",
   "execution_count": 84,
   "id": "13ef64b0",
   "metadata": {},
   "outputs": [
    {
     "data": {
      "text/html": [
       "<div>\n",
       "<style scoped>\n",
       "    .dataframe tbody tr th:only-of-type {\n",
       "        vertical-align: middle;\n",
       "    }\n",
       "\n",
       "    .dataframe tbody tr th {\n",
       "        vertical-align: top;\n",
       "    }\n",
       "\n",
       "    .dataframe thead th {\n",
       "        text-align: right;\n",
       "    }\n",
       "</style>\n",
       "<table border=\"1\" class=\"dataframe\">\n",
       "  <thead>\n",
       "    <tr style=\"text-align: right;\">\n",
       "      <th></th>\n",
       "      <th>Timestamp</th>\n",
       "      <th>Flujo aire</th>\n",
       "      <th>enriquecimiento oxigeno</th>\n",
       "      <th>TASA_alimentacion_conc</th>\n",
       "      <th>alimentacion Si02</th>\n",
       "      <th>alimentacion carga fria</th>\n",
       "      <th>t MB</th>\n",
       "      <th>t ESC</th>\n",
       "      <th>TimeStamp_2</th>\n",
       "      <th>conc_s</th>\n",
       "      <th>conc_cu</th>\n",
       "      <th>MB_Cu</th>\n",
       "      <th>ESC_FE</th>\n",
       "    </tr>\n",
       "  </thead>\n",
       "  <tbody>\n",
       "    <tr>\n",
       "      <th>0</th>\n",
       "      <td>2021-07-01 00:05:00</td>\n",
       "      <td>0.0</td>\n",
       "      <td>21.0</td>\n",
       "      <td>0.0</td>\n",
       "      <td>0.0</td>\n",
       "      <td>0.0</td>\n",
       "      <td>0.000092</td>\n",
       "      <td>0.000092</td>\n",
       "      <td>01-07-2021</td>\n",
       "      <td>0.0</td>\n",
       "      <td>0.0</td>\n",
       "      <td>74.309998</td>\n",
       "      <td>38.099998</td>\n",
       "    </tr>\n",
       "    <tr>\n",
       "      <th>1</th>\n",
       "      <td>2021-07-01 00:10:00</td>\n",
       "      <td>0.0</td>\n",
       "      <td>21.0</td>\n",
       "      <td>0.0</td>\n",
       "      <td>0.0</td>\n",
       "      <td>0.0</td>\n",
       "      <td>0.000092</td>\n",
       "      <td>0.000092</td>\n",
       "      <td>01-07-2021</td>\n",
       "      <td>0.0</td>\n",
       "      <td>0.0</td>\n",
       "      <td>74.309998</td>\n",
       "      <td>38.099998</td>\n",
       "    </tr>\n",
       "    <tr>\n",
       "      <th>2</th>\n",
       "      <td>2021-07-01 00:15:00</td>\n",
       "      <td>0.0</td>\n",
       "      <td>21.0</td>\n",
       "      <td>0.0</td>\n",
       "      <td>0.0</td>\n",
       "      <td>0.0</td>\n",
       "      <td>0.000092</td>\n",
       "      <td>0.000092</td>\n",
       "      <td>01-07-2021</td>\n",
       "      <td>0.0</td>\n",
       "      <td>0.0</td>\n",
       "      <td>74.309998</td>\n",
       "      <td>38.099998</td>\n",
       "    </tr>\n",
       "    <tr>\n",
       "      <th>3</th>\n",
       "      <td>2021-07-01 00:20:00</td>\n",
       "      <td>0.0</td>\n",
       "      <td>21.0</td>\n",
       "      <td>0.0</td>\n",
       "      <td>0.0</td>\n",
       "      <td>0.0</td>\n",
       "      <td>0.000092</td>\n",
       "      <td>0.000092</td>\n",
       "      <td>01-07-2021</td>\n",
       "      <td>0.0</td>\n",
       "      <td>0.0</td>\n",
       "      <td>74.309998</td>\n",
       "      <td>38.099998</td>\n",
       "    </tr>\n",
       "    <tr>\n",
       "      <th>4</th>\n",
       "      <td>2021-07-01 00:25:00</td>\n",
       "      <td>0.0</td>\n",
       "      <td>21.0</td>\n",
       "      <td>0.0</td>\n",
       "      <td>0.0</td>\n",
       "      <td>0.0</td>\n",
       "      <td>0.000092</td>\n",
       "      <td>0.000092</td>\n",
       "      <td>01-07-2021</td>\n",
       "      <td>0.0</td>\n",
       "      <td>0.0</td>\n",
       "      <td>74.309998</td>\n",
       "      <td>38.099998</td>\n",
       "    </tr>\n",
       "  </tbody>\n",
       "</table>\n",
       "</div>"
      ],
      "text/plain": [
       "             Timestamp  Flujo aire  enriquecimiento oxigeno  \\\n",
       "0  2021-07-01 00:05:00         0.0                     21.0   \n",
       "1  2021-07-01 00:10:00         0.0                     21.0   \n",
       "2  2021-07-01 00:15:00         0.0                     21.0   \n",
       "3  2021-07-01 00:20:00         0.0                     21.0   \n",
       "4  2021-07-01 00:25:00         0.0                     21.0   \n",
       "\n",
       "   TASA_alimentacion_conc  alimentacion Si02  alimentacion carga fria  \\\n",
       "0                     0.0                0.0                      0.0   \n",
       "1                     0.0                0.0                      0.0   \n",
       "2                     0.0                0.0                      0.0   \n",
       "3                     0.0                0.0                      0.0   \n",
       "4                     0.0                0.0                      0.0   \n",
       "\n",
       "       t MB     t ESC TimeStamp_2  conc_s  conc_cu      MB_Cu     ESC_FE  \n",
       "0  0.000092  0.000092  01-07-2021     0.0      0.0  74.309998  38.099998  \n",
       "1  0.000092  0.000092  01-07-2021     0.0      0.0  74.309998  38.099998  \n",
       "2  0.000092  0.000092  01-07-2021     0.0      0.0  74.309998  38.099998  \n",
       "3  0.000092  0.000092  01-07-2021     0.0      0.0  74.309998  38.099998  \n",
       "4  0.000092  0.000092  01-07-2021     0.0      0.0  74.309998  38.099998  "
      ]
     },
     "execution_count": 84,
     "metadata": {},
     "output_type": "execute_result"
    }
   ],
   "source": [
    "Merge.head()"
   ]
  },
  {
   "cell_type": "code",
   "execution_count": null,
   "id": "2c98d460",
   "metadata": {},
   "outputs": [],
   "source": []
  },
  {
   "cell_type": "markdown",
   "id": "c7a45ddd",
   "metadata": {},
   "source": [
    "### agregar columna periodo de trabajo"
   ]
  },
  {
   "cell_type": "code",
   "execution_count": 86,
   "id": "a54d0be6",
   "metadata": {},
   "outputs": [],
   "source": [
    "Merge['proceso'] = 0\n",
    "i = 1\n",
    "estado = 0\n",
    "for indice, columna in Merge.iterrows():\n",
    "    if columna['TASA_alimentacion_conc'] != 0 and estado == 0:\n",
    "        Merge.loc[indice, 'proceso'] = i\n",
    "        estado = columna['TASA_alimentacion_conc']\n",
    "    if columna['TASA_alimentacion_conc'] != 0 and estado != 0:\n",
    "        Merge.loc[indice, 'proceso'] = i\n",
    "        estado = columna['TASA_alimentacion_conc']\n",
    "    if columna['TASA_alimentacion_conc'] == 0 and estado != 0:\n",
    "        i = i + 1\n",
    "        estado = columna['TASA_alimentacion_conc']\n",
    "    if columna['TASA_alimentacion_conc'] == 0 and estado == 0:\n",
    "        estado = columna['TASA_alimentacion_conc']"
   ]
  },
  {
   "cell_type": "code",
   "execution_count": 87,
   "id": "ed47049a",
   "metadata": {},
   "outputs": [
    {
     "data": {
      "text/html": [
       "<div>\n",
       "<style scoped>\n",
       "    .dataframe tbody tr th:only-of-type {\n",
       "        vertical-align: middle;\n",
       "    }\n",
       "\n",
       "    .dataframe tbody tr th {\n",
       "        vertical-align: top;\n",
       "    }\n",
       "\n",
       "    .dataframe thead th {\n",
       "        text-align: right;\n",
       "    }\n",
       "</style>\n",
       "<table border=\"1\" class=\"dataframe\">\n",
       "  <thead>\n",
       "    <tr style=\"text-align: right;\">\n",
       "      <th></th>\n",
       "      <th>Timestamp</th>\n",
       "      <th>Flujo aire</th>\n",
       "      <th>enriquecimiento oxigeno</th>\n",
       "      <th>TASA_alimentacion_conc</th>\n",
       "      <th>alimentacion Si02</th>\n",
       "      <th>alimentacion carga fria</th>\n",
       "      <th>t MB</th>\n",
       "      <th>t ESC</th>\n",
       "      <th>TimeStamp_2</th>\n",
       "      <th>conc_s</th>\n",
       "      <th>conc_cu</th>\n",
       "      <th>MB_Cu</th>\n",
       "      <th>ESC_FE</th>\n",
       "      <th>proceso</th>\n",
       "    </tr>\n",
       "  </thead>\n",
       "  <tbody>\n",
       "    <tr>\n",
       "      <th>0</th>\n",
       "      <td>2021-07-01 00:05:00</td>\n",
       "      <td>0.0</td>\n",
       "      <td>21.0</td>\n",
       "      <td>0.0</td>\n",
       "      <td>0.0</td>\n",
       "      <td>0.0</td>\n",
       "      <td>0.000092</td>\n",
       "      <td>0.000092</td>\n",
       "      <td>01-07-2021</td>\n",
       "      <td>0.0</td>\n",
       "      <td>0.0</td>\n",
       "      <td>74.309998</td>\n",
       "      <td>38.099998</td>\n",
       "      <td>0</td>\n",
       "    </tr>\n",
       "    <tr>\n",
       "      <th>1</th>\n",
       "      <td>2021-07-01 00:10:00</td>\n",
       "      <td>0.0</td>\n",
       "      <td>21.0</td>\n",
       "      <td>0.0</td>\n",
       "      <td>0.0</td>\n",
       "      <td>0.0</td>\n",
       "      <td>0.000092</td>\n",
       "      <td>0.000092</td>\n",
       "      <td>01-07-2021</td>\n",
       "      <td>0.0</td>\n",
       "      <td>0.0</td>\n",
       "      <td>74.309998</td>\n",
       "      <td>38.099998</td>\n",
       "      <td>0</td>\n",
       "    </tr>\n",
       "    <tr>\n",
       "      <th>2</th>\n",
       "      <td>2021-07-01 00:15:00</td>\n",
       "      <td>0.0</td>\n",
       "      <td>21.0</td>\n",
       "      <td>0.0</td>\n",
       "      <td>0.0</td>\n",
       "      <td>0.0</td>\n",
       "      <td>0.000092</td>\n",
       "      <td>0.000092</td>\n",
       "      <td>01-07-2021</td>\n",
       "      <td>0.0</td>\n",
       "      <td>0.0</td>\n",
       "      <td>74.309998</td>\n",
       "      <td>38.099998</td>\n",
       "      <td>0</td>\n",
       "    </tr>\n",
       "    <tr>\n",
       "      <th>3</th>\n",
       "      <td>2021-07-01 00:20:00</td>\n",
       "      <td>0.0</td>\n",
       "      <td>21.0</td>\n",
       "      <td>0.0</td>\n",
       "      <td>0.0</td>\n",
       "      <td>0.0</td>\n",
       "      <td>0.000092</td>\n",
       "      <td>0.000092</td>\n",
       "      <td>01-07-2021</td>\n",
       "      <td>0.0</td>\n",
       "      <td>0.0</td>\n",
       "      <td>74.309998</td>\n",
       "      <td>38.099998</td>\n",
       "      <td>0</td>\n",
       "    </tr>\n",
       "    <tr>\n",
       "      <th>4</th>\n",
       "      <td>2021-07-01 00:25:00</td>\n",
       "      <td>0.0</td>\n",
       "      <td>21.0</td>\n",
       "      <td>0.0</td>\n",
       "      <td>0.0</td>\n",
       "      <td>0.0</td>\n",
       "      <td>0.000092</td>\n",
       "      <td>0.000092</td>\n",
       "      <td>01-07-2021</td>\n",
       "      <td>0.0</td>\n",
       "      <td>0.0</td>\n",
       "      <td>74.309998</td>\n",
       "      <td>38.099998</td>\n",
       "      <td>0</td>\n",
       "    </tr>\n",
       "  </tbody>\n",
       "</table>\n",
       "</div>"
      ],
      "text/plain": [
       "             Timestamp  Flujo aire  enriquecimiento oxigeno  \\\n",
       "0  2021-07-01 00:05:00         0.0                     21.0   \n",
       "1  2021-07-01 00:10:00         0.0                     21.0   \n",
       "2  2021-07-01 00:15:00         0.0                     21.0   \n",
       "3  2021-07-01 00:20:00         0.0                     21.0   \n",
       "4  2021-07-01 00:25:00         0.0                     21.0   \n",
       "\n",
       "   TASA_alimentacion_conc  alimentacion Si02  alimentacion carga fria  \\\n",
       "0                     0.0                0.0                      0.0   \n",
       "1                     0.0                0.0                      0.0   \n",
       "2                     0.0                0.0                      0.0   \n",
       "3                     0.0                0.0                      0.0   \n",
       "4                     0.0                0.0                      0.0   \n",
       "\n",
       "       t MB     t ESC TimeStamp_2  conc_s  conc_cu      MB_Cu     ESC_FE  \\\n",
       "0  0.000092  0.000092  01-07-2021     0.0      0.0  74.309998  38.099998   \n",
       "1  0.000092  0.000092  01-07-2021     0.0      0.0  74.309998  38.099998   \n",
       "2  0.000092  0.000092  01-07-2021     0.0      0.0  74.309998  38.099998   \n",
       "3  0.000092  0.000092  01-07-2021     0.0      0.0  74.309998  38.099998   \n",
       "4  0.000092  0.000092  01-07-2021     0.0      0.0  74.309998  38.099998   \n",
       "\n",
       "   proceso  \n",
       "0        0  \n",
       "1        0  \n",
       "2        0  \n",
       "3        0  \n",
       "4        0  "
      ]
     },
     "execution_count": 87,
     "metadata": {},
     "output_type": "execute_result"
    }
   ],
   "source": [
    "Merge.head()"
   ]
  },
  {
   "cell_type": "code",
   "execution_count": null,
   "id": "5d8e4c6e",
   "metadata": {},
   "outputs": [],
   "source": [
    "#Guardar datos con columna proceso de trabajo\n",
    "Merge.to_csv('documentos/completos/actualizado/df_21_23_vers2.csv', index = False)"
   ]
  },
  {
   "cell_type": "code",
   "execution_count": null,
   "id": "d4308105",
   "metadata": {},
   "outputs": [],
   "source": []
  },
  {
   "cell_type": "code",
   "execution_count": null,
   "id": "1e74a9be",
   "metadata": {},
   "outputs": [],
   "source": []
  },
  {
   "cell_type": "markdown",
   "id": "8d4121ff",
   "metadata": {},
   "source": [
    "## Cruce de nuevos datos ago-sep"
   ]
  },
  {
   "cell_type": "code",
   "execution_count": null,
   "id": "74ce5eae",
   "metadata": {},
   "outputs": [],
   "source": [
    "df_ago_sep = pd.read_excel(\"documentos/2023/ago-sep/CT.xlsx\", skiprows=1, sheet_name = 'Average.')"
   ]
  },
  {
   "cell_type": "code",
   "execution_count": null,
   "id": "3813a652",
   "metadata": {},
   "outputs": [],
   "source": [
    "df_ago_sep"
   ]
  },
  {
   "cell_type": "code",
   "execution_count": null,
   "id": "ae0ed974",
   "metadata": {},
   "outputs": [],
   "source": [
    "Cobre = pd.read_excel(\"documentos/2023/ago-sep/Cobre y azufre..xlsx\", skiprows=1, sheet_name = 'Cu alimentación.')\n",
    "Azufre = pd.read_excel(\"documentos/2023/ago-sep/Cobre y azufre..xlsx\", skiprows=1, sheet_name = 'S alimentación.')"
   ]
  },
  {
   "cell_type": "code",
   "execution_count": null,
   "id": "cbe56f9a",
   "metadata": {},
   "outputs": [],
   "source": [
    "Azufre.drop(['Unnamed: 0', 'Nombre', 'Unidad'],axis=1, inplace = True)"
   ]
  },
  {
   "cell_type": "code",
   "execution_count": null,
   "id": "5aa9fe59",
   "metadata": {},
   "outputs": [],
   "source": [
    "Azufre.rename(columns={'Día':'Ley_S'}, inplace=True)"
   ]
  },
  {
   "cell_type": "code",
   "execution_count": null,
   "id": "e9a8b6d8",
   "metadata": {},
   "outputs": [],
   "source": [
    "Cobre.drop(['Unnamed: 0', 'Nombre', 'Unidad'],axis=1, inplace = True)\n",
    "Cobre.rename(columns={'Día':'Ley_Cu'}, inplace=True)"
   ]
  },
  {
   "cell_type": "code",
   "execution_count": null,
   "id": "7ffef329",
   "metadata": {},
   "outputs": [],
   "source": [
    "Cobre['Fecha'] = pd.to_datetime(Cobre['Fecha'], unit='D', origin='1899-12-30')\n",
    "Azufre['Fecha'] = pd.to_datetime(Azufre['Fecha'], unit='D', origin='1899-12-30')"
   ]
  },
  {
   "cell_type": "code",
   "execution_count": null,
   "id": "68759432",
   "metadata": {},
   "outputs": [],
   "source": [
    "Cobre.rename(columns={'Fecha':'TimeStamp'}, inplace=True)\n",
    "Azufre.rename(columns={'Fecha':'TimeStamp'}, inplace=True)"
   ]
  },
  {
   "cell_type": "code",
   "execution_count": null,
   "id": "4f6c02d9",
   "metadata": {},
   "outputs": [],
   "source": [
    "Cobre.rename(columns={'TimeStamp':'TimeStamp_2'}, inplace=True)\n",
    "Azufre.rename(columns={'TimeStamp':'TimeStamp_2'}, inplace=True)"
   ]
  },
  {
   "cell_type": "code",
   "execution_count": null,
   "id": "7a548f17",
   "metadata": {},
   "outputs": [],
   "source": [
    "df_ago_sep['TimeStamp'] = pd.to_datetime(df_ago_sep['TimeStamp'], unit='D', origin='1899-12-30')"
   ]
  },
  {
   "cell_type": "code",
   "execution_count": null,
   "id": "cf072a1c",
   "metadata": {},
   "outputs": [],
   "source": [
    "df_ago_sep['TimeStamp'] = df_ago_sep['TimeStamp'].dt.strftime(\"%Y-%m-%d %H:%M:%S\")"
   ]
  },
  {
   "cell_type": "code",
   "execution_count": null,
   "id": "88c39bc8",
   "metadata": {},
   "outputs": [],
   "source": [
    "df_ago_sep['TimeStamp'] = pd.to_datetime(df_ago_sep['TimeStamp'])"
   ]
  },
  {
   "cell_type": "code",
   "execution_count": null,
   "id": "311f7493",
   "metadata": {},
   "outputs": [],
   "source": [
    "df_ago_sep['TimeStamp'] = df_ago_sep['TimeStamp'] + timedelta(seconds=1)"
   ]
  },
  {
   "cell_type": "code",
   "execution_count": null,
   "id": "df530aa9",
   "metadata": {},
   "outputs": [],
   "source": [
    "df_ago_sep"
   ]
  },
  {
   "cell_type": "code",
   "execution_count": null,
   "id": "85108293",
   "metadata": {},
   "outputs": [],
   "source": []
  },
  {
   "cell_type": "code",
   "execution_count": null,
   "id": "a7ebd99b",
   "metadata": {},
   "outputs": [],
   "source": [
    "df_ago_sep['TimeStamp_2'] = df_ago_sep['TimeStamp'].dt.strftime(\"%Y-%m-%d\")"
   ]
  },
  {
   "cell_type": "code",
   "execution_count": null,
   "id": "c8143673",
   "metadata": {},
   "outputs": [],
   "source": [
    "df_ago_sep['TimeStamp_2'] = pd.to_datetime(df_ago_sep['TimeStamp_2'])"
   ]
  },
  {
   "cell_type": "code",
   "execution_count": null,
   "id": "c60768a5",
   "metadata": {},
   "outputs": [],
   "source": [
    "merge = pd.merge(df_ago_sep,Cobre, how='left', on = 'TimeStamp_2')"
   ]
  },
  {
   "cell_type": "code",
   "execution_count": null,
   "id": "a6479882",
   "metadata": {},
   "outputs": [],
   "source": [
    "merge = pd.merge(merge,Azufre, how='left', on = 'TimeStamp_2')"
   ]
  },
  {
   "cell_type": "code",
   "execution_count": null,
   "id": "065d2f3f",
   "metadata": {},
   "outputs": [],
   "source": [
    "merge"
   ]
  },
  {
   "cell_type": "code",
   "execution_count": null,
   "id": "10a79cdb",
   "metadata": {},
   "outputs": [],
   "source": [
    "merge.rename(columns={'TimeStamp':'Timestamp', '.FI_325':'Flujo aire', '.[FFIC_324.PV]':'enriquecimiento oxigeno',\n",
    "                      '.TASA_INST':'TASA_alimentacion_conc', '.[WIC_135.PV]':'alimentacion Si02',\n",
    "                      '.[WIC_134.PV]':'alimentacion carga fria', '.TIR_311':'t MB', '.TIR_313':'t ESC',\n",
    "                     'Ley_Cu':'MB_Cu', 'Ley_S':'ESC_FE'}, inplace=True)"
   ]
  },
  {
   "cell_type": "code",
   "execution_count": null,
   "id": "438faa0e",
   "metadata": {},
   "outputs": [],
   "source": [
    "merge.sort_values(by = 'Timestamp', ascending=True)"
   ]
  },
  {
   "cell_type": "code",
   "execution_count": null,
   "id": "bce0a17b",
   "metadata": {},
   "outputs": [],
   "source": [
    "df_21_23 = pd.read_csv(\"documentos/completos/actualizado/df_21_23.csv\")"
   ]
  },
  {
   "cell_type": "code",
   "execution_count": null,
   "id": "0de84af8",
   "metadata": {},
   "outputs": [],
   "source": [
    "df_21_23.drop('Unnamed: 0', axis=1, inplace=True)"
   ]
  },
  {
   "cell_type": "code",
   "execution_count": null,
   "id": "1c499220",
   "metadata": {},
   "outputs": [],
   "source": [
    "df_21_23"
   ]
  },
  {
   "cell_type": "code",
   "execution_count": null,
   "id": "35278607",
   "metadata": {},
   "outputs": [],
   "source": [
    "Concatenar = pd.concat([df_21_23, merge])"
   ]
  },
  {
   "cell_type": "code",
   "execution_count": null,
   "id": "81b74ea5",
   "metadata": {},
   "outputs": [],
   "source": [
    "Concatenar"
   ]
  },
  {
   "cell_type": "code",
   "execution_count": null,
   "id": "b5caa8e9",
   "metadata": {},
   "outputs": [],
   "source": [
    "Concatenar.info()"
   ]
  },
  {
   "cell_type": "code",
   "execution_count": null,
   "id": "7dde6657",
   "metadata": {},
   "outputs": [],
   "source": [
    "Concatenar['Timestamp'] = pd.to_datetime(Concatenar['Timestamp'])"
   ]
  },
  {
   "cell_type": "code",
   "execution_count": null,
   "id": "16836be3",
   "metadata": {},
   "outputs": [],
   "source": [
    "Concatenar.reset_index(drop=True, inplace=True)"
   ]
  },
  {
   "cell_type": "code",
   "execution_count": null,
   "id": "ffc37432",
   "metadata": {},
   "outputs": [],
   "source": [
    "Concatenar['segundos'] = Concatenar['Timestamp'].dt.strftime(\"%S\")"
   ]
  },
  {
   "cell_type": "code",
   "execution_count": null,
   "id": "63471c90",
   "metadata": {},
   "outputs": [],
   "source": [
    "Concatenar[Concatenar['segundos'] == '59'].index"
   ]
  },
  {
   "cell_type": "code",
   "execution_count": null,
   "id": "f8e0fe85",
   "metadata": {},
   "outputs": [],
   "source": [
    "Concatenar.loc[Concatenar[Concatenar['segundos'] == '59'].index, 'Timestamp'] = Concatenar.loc[Concatenar[Concatenar['segundos'] == '59'].index, 'Timestamp'] + timedelta(seconds=1)"
   ]
  },
  {
   "cell_type": "code",
   "execution_count": null,
   "id": "20d4e3c6",
   "metadata": {},
   "outputs": [],
   "source": [
    "Concatenar"
   ]
  },
  {
   "cell_type": "code",
   "execution_count": null,
   "id": "637ccf3d",
   "metadata": {},
   "outputs": [],
   "source": [
    "Concatenar.drop('segundos',axis=1, inplace=True)"
   ]
  },
  {
   "cell_type": "code",
   "execution_count": null,
   "id": "8222a677",
   "metadata": {},
   "outputs": [],
   "source": [
    "Concatenar.to_csv('documentos/completos/actualizado/df_21_actual.csv', index=False)"
   ]
  },
  {
   "cell_type": "code",
   "execution_count": null,
   "id": "27590767",
   "metadata": {},
   "outputs": [],
   "source": []
  }
 ],
 "metadata": {
  "kernelspec": {
   "display_name": "SAM",
   "language": "python",
   "name": "sam"
  },
  "language_info": {
   "codemirror_mode": {
    "name": "ipython",
    "version": 3
   },
   "file_extension": ".py",
   "mimetype": "text/x-python",
   "name": "python",
   "nbconvert_exporter": "python",
   "pygments_lexer": "ipython3",
   "version": "3.11.4"
  },
  "toc": {
   "base_numbering": 1,
   "nav_menu": {},
   "number_sections": true,
   "sideBar": true,
   "skip_h1_title": false,
   "title_cell": "Table of Contents",
   "title_sidebar": "Contents",
   "toc_cell": false,
   "toc_position": {
    "height": "calc(100% - 180px)",
    "left": "10px",
    "top": "150px",
    "width": "320px"
   },
   "toc_section_display": true,
   "toc_window_display": true
  }
 },
 "nbformat": 4,
 "nbformat_minor": 5
}
