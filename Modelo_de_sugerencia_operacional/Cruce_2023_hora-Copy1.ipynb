{
 "cells": [
  {
   "cell_type": "code",
   "execution_count": null,
   "id": "16669203",
   "metadata": {},
   "outputs": [],
   "source": [
    "import pandas as pd"
   ]
  },
  {
   "cell_type": "code",
   "execution_count": null,
   "id": "4d69e8f5",
   "metadata": {},
   "outputs": [],
   "source": [
    "import numpy as np"
   ]
  },
  {
   "cell_type": "code",
   "execution_count": null,
   "id": "1c2a8015",
   "metadata": {},
   "outputs": [],
   "source": [
    "import matplotlib.pyplot as plt\n",
    "import seaborn as sns"
   ]
  },
  {
   "cell_type": "markdown",
   "id": "4d92741c",
   "metadata": {},
   "source": [
    "## Union de Datos 2023 ley Cu_mb, Fe304_esc"
   ]
  },
  {
   "cell_type": "code",
   "execution_count": null,
   "id": "aae8cdbb",
   "metadata": {},
   "outputs": [],
   "source": [
    "# ley cobre de MB y ley Fe304 de escoria\n",
    "escoria_FE_2023 = pd.read_excel(\"documentos/2023/Leyes.xlsx\", skiprows=1, sheet_name = 'Ley Fe3O4_Escoria')"
   ]
  },
  {
   "cell_type": "code",
   "execution_count": null,
   "id": "1fe4231c",
   "metadata": {},
   "outputs": [],
   "source": [
    "MB_Cu_2023 = pd.read_excel(\"documentos/2023/Leyes.xlsx\", skiprows=2, sheet_name = 'Ley Cu_MB')"
   ]
  },
  {
   "cell_type": "code",
   "execution_count": null,
   "id": "6648d805",
   "metadata": {},
   "outputs": [],
   "source": [
    "#archivo Datos 1 hoja Average\n",
    "df_total = pd.read_excel(\"documentos/2023/Datos 1..xlsx\", skiprows=1, sheet_name = 'Average.')"
   ]
  },
  {
   "cell_type": "code",
   "execution_count": null,
   "id": "e4568f82",
   "metadata": {},
   "outputs": [],
   "source": [
    "df_total.drop('Unnamed: 0', axis=1, inplace=True)\n",
    "MB_Cu_2023.drop('Unnamed: 0', axis=1, inplace=True)\n",
    "escoria_FE_2023.drop('Unnamed: 0', axis=1, inplace=True)"
   ]
  },
  {
   "cell_type": "code",
   "execution_count": null,
   "id": "44f0a939",
   "metadata": {},
   "outputs": [],
   "source": [
    "escoria_FE_2023"
   ]
  },
  {
   "cell_type": "code",
   "execution_count": null,
   "id": "e217a175",
   "metadata": {},
   "outputs": [],
   "source": []
  },
  {
   "cell_type": "code",
   "execution_count": null,
   "id": "92a16399",
   "metadata": {},
   "outputs": [],
   "source": [
    "escoria_FE_2023['Fecha'] = escoria_FE_2023['Fecha'].astype(str)\n",
    "MB_Cu_2023['Fecha'] = MB_Cu_2023['Fecha'].astype(str)"
   ]
  },
  {
   "cell_type": "code",
   "execution_count": null,
   "id": "93e0137e",
   "metadata": {
    "scrolled": true
   },
   "outputs": [],
   "source": [
    "escoria_FE_2023['Timestamp'] = escoria_FE_2023['Fecha'].astype(str)+' '+escoria_FE_2023['Hora'].astype(str)\n",
    "MB_Cu_2023['Timestamp'] = MB_Cu_2023['Fecha'].astype(str)+' '+MB_Cu_2023['Hora'].astype(str)"
   ]
  },
  {
   "cell_type": "code",
   "execution_count": null,
   "id": "f7e5fe45",
   "metadata": {},
   "outputs": [],
   "source": [
    "df_total"
   ]
  },
  {
   "cell_type": "code",
   "execution_count": null,
   "id": "a4afd510",
   "metadata": {},
   "outputs": [],
   "source": [
    "MB_Cu_2023"
   ]
  },
  {
   "cell_type": "code",
   "execution_count": null,
   "id": "d27fbda9",
   "metadata": {},
   "outputs": [],
   "source": [
    "escoria_FE_2023['Timestamp'] = pd.to_datetime(escoria_FE_2023['Timestamp'])\n",
    "MB_Cu_2023['Timestamp'] = pd.to_datetime(MB_Cu_2023['Timestamp'])"
   ]
  },
  {
   "cell_type": "code",
   "execution_count": null,
   "id": "baa8dc8f",
   "metadata": {},
   "outputs": [],
   "source": [
    "from datetime import timedelta"
   ]
  },
  {
   "cell_type": "code",
   "execution_count": null,
   "id": "27c75de9",
   "metadata": {},
   "outputs": [],
   "source": [
    "escoria_FE_2023['Timestamp'] = escoria_FE_2023['Timestamp'].dt.strftime(\"%Y-%m-%d %H:%m:%s\")\n",
    "MB_Cu_2023['Timestamp'] = MB_Cu_2023['Timestamp'].dt.strftime(\"%Y-%m-%d %H:%m:%s\")"
   ]
  },
  {
   "cell_type": "code",
   "execution_count": null,
   "id": "200163df",
   "metadata": {},
   "outputs": [],
   "source": [
    "escoria_FE_2023['Timestamp'] = pd.to_datetime(escoria_FE_2023['Timestamp'])\n",
    "MB_Cu_2023['Timestamp'] = pd.to_datetime(MB_Cu_2023['Timestamp'])"
   ]
  },
  {
   "cell_type": "code",
   "execution_count": null,
   "id": "c98e56be",
   "metadata": {},
   "outputs": [],
   "source": [
    "escoria_FE_2023.drop(['Fecha', 'Equipo', 'Producto', 'Hora'], axis=1, inplace=True)\n",
    "MB_Cu_2023.drop(['Fecha', 'Equipo', 'Producto', 'Hora'], axis=1, inplace=True)"
   ]
  },
  {
   "cell_type": "code",
   "execution_count": null,
   "id": "67f6715b",
   "metadata": {},
   "outputs": [],
   "source": [
    "escoria_FE_2023.rename(columns={'Valor':'escoria_FE'}, inplace=True)\n",
    "MB_Cu_2023.rename(columns={'Valor':'MB_Cu'}, inplace=True)"
   ]
  },
  {
   "cell_type": "code",
   "execution_count": null,
   "id": "e639b4ae",
   "metadata": {},
   "outputs": [],
   "source": [
    "MB_Cu_2023"
   ]
  },
  {
   "cell_type": "code",
   "execution_count": null,
   "id": "c21c79a9",
   "metadata": {},
   "outputs": [],
   "source": [
    "df_total['TimeStamp'] = df_total['TimeStamp'] + timedelta(seconds=1)"
   ]
  },
  {
   "cell_type": "code",
   "execution_count": null,
   "id": "dffd05a6",
   "metadata": {},
   "outputs": [],
   "source": [
    "escoria_FE_2023"
   ]
  },
  {
   "cell_type": "code",
   "execution_count": null,
   "id": "6946b3b3",
   "metadata": {},
   "outputs": [],
   "source": [
    "escoria_FE_2023['Timestamp']"
   ]
  },
  {
   "cell_type": "code",
   "execution_count": null,
   "id": "8301d0e7",
   "metadata": {},
   "outputs": [],
   "source": [
    "df_total.rename(columns={'TimeStamp':'Timestamp'}, inplace=True)"
   ]
  },
  {
   "cell_type": "code",
   "execution_count": null,
   "id": "f1b88999",
   "metadata": {},
   "outputs": [],
   "source": [
    "escoria_FE_2023[~escoria_FE_2023['Timestamp'].isin(df_total['Timestamp'])] #no existe el 31-01-2021 en los datos average"
   ]
  },
  {
   "cell_type": "code",
   "execution_count": null,
   "id": "4b9d9cdd",
   "metadata": {},
   "outputs": [],
   "source": [
    "merge = pd.merge(df_total,escoria_FE_2023, how='left', on = 'Timestamp')"
   ]
  },
  {
   "cell_type": "code",
   "execution_count": null,
   "id": "0b993f9d",
   "metadata": {},
   "outputs": [],
   "source": [
    "merge = pd.merge(merge,MB_Cu_2023, how='left', on = 'Timestamp')"
   ]
  },
  {
   "cell_type": "code",
   "execution_count": null,
   "id": "f599f287",
   "metadata": {},
   "outputs": [],
   "source": [
    "merge"
   ]
  },
  {
   "cell_type": "code",
   "execution_count": null,
   "id": "c9596b9a",
   "metadata": {},
   "outputs": [],
   "source": []
  },
  {
   "cell_type": "code",
   "execution_count": null,
   "id": "ccf53882",
   "metadata": {},
   "outputs": [],
   "source": [
    "merge['escoria_FE'] = merge['escoria_FE'].fillna(method='backfill')"
   ]
  },
  {
   "cell_type": "code",
   "execution_count": null,
   "id": "a04abb69",
   "metadata": {},
   "outputs": [],
   "source": [
    "merge['MB_Cu'] = merge['MB_Cu'].fillna(method='backfill')"
   ]
  },
  {
   "cell_type": "code",
   "execution_count": null,
   "id": "559ecd94",
   "metadata": {},
   "outputs": [],
   "source": [
    "merge"
   ]
  },
  {
   "cell_type": "code",
   "execution_count": null,
   "id": "26d3c559",
   "metadata": {},
   "outputs": [],
   "source": [
    "merge['escoria_FE'] = merge['escoria_FE'].fillna(method='ffill')"
   ]
  },
  {
   "cell_type": "code",
   "execution_count": null,
   "id": "c82c1551",
   "metadata": {},
   "outputs": [],
   "source": [
    "merge['MB_Cu'] = merge['MB_Cu'].fillna(method='ffill')"
   ]
  },
  {
   "cell_type": "code",
   "execution_count": null,
   "id": "b717e34c",
   "metadata": {},
   "outputs": [],
   "source": [
    "merge"
   ]
  },
  {
   "cell_type": "markdown",
   "id": "f9a31d19",
   "metadata": {},
   "source": [
    "### union ley con_cu y con_S"
   ]
  },
  {
   "cell_type": "code",
   "execution_count": null,
   "id": "a47d1519",
   "metadata": {},
   "outputs": [],
   "source": [
    "Con_cu = pd.read_excel(\"documentos/2023/Leyes.xlsx\", skiprows=2, sheet_name = 'Ley Cu_Concentrado.')"
   ]
  },
  {
   "cell_type": "code",
   "execution_count": null,
   "id": "6f75b587",
   "metadata": {},
   "outputs": [],
   "source": [
    "Con_S = pd.read_excel(\"documentos/2023/Leyes.xlsx\", skiprows=2, sheet_name = 'Ley S_Concentrado.')"
   ]
  },
  {
   "cell_type": "code",
   "execution_count": null,
   "id": "c753e73f",
   "metadata": {},
   "outputs": [],
   "source": [
    "Con_S.drop('Unnamed: 0', axis=1, inplace=True)\n",
    "Con_cu.drop('Unnamed: 0', axis=1, inplace=True)"
   ]
  },
  {
   "cell_type": "code",
   "execution_count": null,
   "id": "a16a9973",
   "metadata": {},
   "outputs": [],
   "source": [
    "Con_cu.rename(columns={'Día':'Con_cu'}, inplace=True)\n",
    "Con_S.rename(columns={'Día':'Con_S'}, inplace=True)"
   ]
  },
  {
   "cell_type": "code",
   "execution_count": null,
   "id": "5b3bb2f1",
   "metadata": {},
   "outputs": [],
   "source": [
    "Con_S"
   ]
  },
  {
   "cell_type": "code",
   "execution_count": null,
   "id": "f665277d",
   "metadata": {},
   "outputs": [],
   "source": [
    "merge['Fecha'] = merge['Timestamp'].dt.strftime(\"%Y-%m-%d\")"
   ]
  },
  {
   "cell_type": "code",
   "execution_count": null,
   "id": "0ae7a78e",
   "metadata": {},
   "outputs": [],
   "source": [
    "merge['Fecha'] = pd.to_datetime(merge['Fecha'])"
   ]
  },
  {
   "cell_type": "code",
   "execution_count": null,
   "id": "acef3702",
   "metadata": {},
   "outputs": [],
   "source": [
    "merge.info()"
   ]
  },
  {
   "cell_type": "code",
   "execution_count": null,
   "id": "adae73f9",
   "metadata": {},
   "outputs": [],
   "source": [
    "Con_S.info()"
   ]
  },
  {
   "cell_type": "code",
   "execution_count": null,
   "id": "dd4c712f",
   "metadata": {},
   "outputs": [],
   "source": [
    "merge = pd.merge(merge,Con_S, how='left', on = 'Fecha')"
   ]
  },
  {
   "cell_type": "code",
   "execution_count": null,
   "id": "e80b2491",
   "metadata": {},
   "outputs": [],
   "source": [
    "merge = pd.merge(merge,Con_cu, how='left', on = 'Fecha')"
   ]
  },
  {
   "cell_type": "code",
   "execution_count": null,
   "id": "6663eef6",
   "metadata": {},
   "outputs": [],
   "source": [
    "merge.drop(['Nombre_x', 'Nombre_y'], axis=1, inplace=True)"
   ]
  },
  {
   "cell_type": "code",
   "execution_count": null,
   "id": "ac8a2fda",
   "metadata": {},
   "outputs": [],
   "source": [
    "merge"
   ]
  },
  {
   "cell_type": "code",
   "execution_count": null,
   "id": "834a7db5",
   "metadata": {},
   "outputs": [],
   "source": []
  },
  {
   "cell_type": "code",
   "execution_count": null,
   "id": "548a6460",
   "metadata": {},
   "outputs": [],
   "source": [
    "merge.rename(columns={'.FI_325':'Flujo_aire', '.[FFIC_324.PV]':'Enr_oxigeno', '.TASA_INST':'Alimentacion_con', \n",
    "                        '.[WIC_135.PV]':'Alimentacion_Si02','.[WIC_134.PV]':'carga_fria', '.TIR_311':'t°_MB',\n",
    "                         '.TIR_313':'t°_esc'}, inplace = True)"
   ]
  },
  {
   "cell_type": "code",
   "execution_count": null,
   "id": "1bb8d580",
   "metadata": {},
   "outputs": [],
   "source": [
    "merge"
   ]
  },
  {
   "cell_type": "code",
   "execution_count": null,
   "id": "cea8e1cf",
   "metadata": {},
   "outputs": [],
   "source": [
    "merge.to_csv('documentos/completos/df_2023.csv')"
   ]
  },
  {
   "cell_type": "code",
   "execution_count": null,
   "id": "5b49616e",
   "metadata": {},
   "outputs": [],
   "source": []
  },
  {
   "cell_type": "code",
   "execution_count": null,
   "id": "0e0ef392",
   "metadata": {},
   "outputs": [],
   "source": [
    "merge['.TIR_311']"
   ]
  },
  {
   "cell_type": "code",
   "execution_count": null,
   "id": "5abb64b9",
   "metadata": {},
   "outputs": [],
   "source": [
    "import numpy as np\n",
    "import matplotlib.pyplot as plt"
   ]
  },
  {
   "cell_type": "code",
   "execution_count": null,
   "id": "d80eccec",
   "metadata": {},
   "outputs": [],
   "source": [
    "merge.info()"
   ]
  },
  {
   "cell_type": "code",
   "execution_count": null,
   "id": "eba365b6",
   "metadata": {},
   "outputs": [],
   "source": [
    "merge.replace('Null', np.nan, inplace = True)"
   ]
  },
  {
   "cell_type": "code",
   "execution_count": null,
   "id": "62ac39e6",
   "metadata": {},
   "outputs": [],
   "source": [
    "merge[merge['.TIR_311'].isnull()].shape"
   ]
  },
  {
   "cell_type": "code",
   "execution_count": null,
   "id": "c9401c31",
   "metadata": {},
   "outputs": [],
   "source": [
    "fig, ax = plt.subplots()\n",
    "ax.boxplot(merge['.TIR_311'].dropna().astype(float))"
   ]
  },
  {
   "cell_type": "code",
   "execution_count": null,
   "id": "a394444d",
   "metadata": {},
   "outputs": [],
   "source": [
    "fig, ax = plt.subplots()\n",
    "ax.boxplot(merge[merge['.TASA_INST']>0]['.TASA_INST'].dropna().astype(float))"
   ]
  },
  {
   "cell_type": "code",
   "execution_count": null,
   "id": "4548d32b",
   "metadata": {},
   "outputs": [],
   "source": [
    "merge['.TASA_INST'].hist()"
   ]
  },
  {
   "cell_type": "markdown",
   "id": "395ce96c",
   "metadata": {},
   "source": [
    "## union data 2021 a 2023"
   ]
  },
  {
   "cell_type": "code",
   "execution_count": null,
   "id": "ec11dc4a",
   "metadata": {},
   "outputs": [],
   "source": [
    "df_2021_2023 = pd.read_csv('documentos/completos/df_total.csv', sep=';')"
   ]
  },
  {
   "cell_type": "code",
   "execution_count": null,
   "id": "fb62b68a",
   "metadata": {},
   "outputs": [],
   "source": [
    "df_2021_2023.fillna(0, inplace=True)"
   ]
  },
  {
   "cell_type": "code",
   "execution_count": null,
   "id": "22907fcf",
   "metadata": {},
   "outputs": [],
   "source": [
    "df_2021_2023"
   ]
  },
  {
   "cell_type": "code",
   "execution_count": null,
   "id": "75b98464",
   "metadata": {},
   "outputs": [],
   "source": [
    "MB_Cu_2021_22 = pd.read_excel(\"documentos/Leyes 2021-2022..xlsx\", sheet_name = 'Ley Cu_MB')"
   ]
  },
  {
   "cell_type": "code",
   "execution_count": null,
   "id": "4fbf626a",
   "metadata": {},
   "outputs": [],
   "source": [
    "escoria_fe_2022 = pd.read_excel(\"documentos/Leyes 2021-2022..xlsx\", sheet_name = 'Ley Fe3O4_Escoria')\n",
    "escoria_fe_2021 = pd.read_excel(\"documentos/Fe3O4_2021.xlsx\")"
   ]
  },
  {
   "cell_type": "code",
   "execution_count": null,
   "id": "26ae23b8",
   "metadata": {},
   "outputs": [],
   "source": [
    "# ley cobre de MB y ley Fe304 de escoria 2023\n",
    "escoria_FE_2023 = pd.read_excel(\"documentos/2023/Leyes.xlsx\", skiprows=1, sheet_name = 'Ley Fe3O4_Escoria')\n",
    "MB_Cu_2023 = pd.read_excel(\"documentos/2023/Leyes.xlsx\", skiprows=2, sheet_name = 'Ley Cu_MB')"
   ]
  },
  {
   "cell_type": "code",
   "execution_count": null,
   "id": "54cfd7c3",
   "metadata": {},
   "outputs": [],
   "source": [
    "### unir cu mb 2021-2023"
   ]
  },
  {
   "cell_type": "code",
   "execution_count": null,
   "id": "0d00adf7",
   "metadata": {},
   "outputs": [],
   "source": [
    "MB_Cu_2023.drop(['Unnamed: 0', 'Equipo', 'Producto'], axis=1, inplace=True)\n",
    "MB_Cu_2021_22.drop('Ensaye', axis=1, inplace=True)"
   ]
  },
  {
   "cell_type": "code",
   "execution_count": null,
   "id": "0163d959",
   "metadata": {},
   "outputs": [],
   "source": [
    "MB_Cu_2021_22.dropna(inplace=True)"
   ]
  },
  {
   "cell_type": "code",
   "execution_count": null,
   "id": "e7944275",
   "metadata": {},
   "outputs": [],
   "source": [
    "MB_Cu_2021_22"
   ]
  },
  {
   "cell_type": "code",
   "execution_count": null,
   "id": "04dab257",
   "metadata": {},
   "outputs": [],
   "source": [
    "MB_Cu_2023"
   ]
  },
  {
   "cell_type": "code",
   "execution_count": null,
   "id": "dde6fc33",
   "metadata": {},
   "outputs": [],
   "source": [
    "MB_Cu = pd.concat([MB_Cu_2021_22, MB_Cu_2023])"
   ]
  },
  {
   "cell_type": "code",
   "execution_count": null,
   "id": "4b309b0e",
   "metadata": {},
   "outputs": [],
   "source": [
    "MB_Cu"
   ]
  },
  {
   "cell_type": "code",
   "execution_count": null,
   "id": "e1159e47",
   "metadata": {},
   "outputs": [],
   "source": [
    "### unir fe302 esc 2021-2023"
   ]
  },
  {
   "cell_type": "code",
   "execution_count": null,
   "id": "39a08303",
   "metadata": {},
   "outputs": [],
   "source": [
    "escoria_fe_2021\n",
    "escoria_fe_2022\n",
    "escoria_FE_2023"
   ]
  },
  {
   "cell_type": "code",
   "execution_count": null,
   "id": "44b09f71",
   "metadata": {},
   "outputs": [],
   "source": [
    "escoria_fe_2021.drop('Ensaye', axis=1, inplace=True)\n",
    "escoria_fe_2022.drop('Ensaye', axis=1, inplace=True)\n",
    "escoria_FE_2023.drop(['Unnamed: 0', 'Equipo', 'Producto'], axis=1, inplace=True)"
   ]
  },
  {
   "cell_type": "code",
   "execution_count": null,
   "id": "e13a7405",
   "metadata": {},
   "outputs": [],
   "source": [
    "escoria_fe_2021.dropna(inplace=True)"
   ]
  },
  {
   "cell_type": "code",
   "execution_count": null,
   "id": "56844500",
   "metadata": {},
   "outputs": [],
   "source": [
    "ESC_FE302 = pd.concat([escoria_fe_2021, escoria_fe_2022])"
   ]
  },
  {
   "cell_type": "code",
   "execution_count": null,
   "id": "559ec722",
   "metadata": {},
   "outputs": [],
   "source": [
    "ESC_FE302 = pd.concat([ESC_FE302, escoria_FE_2023])"
   ]
  },
  {
   "cell_type": "code",
   "execution_count": null,
   "id": "aaaac506",
   "metadata": {},
   "outputs": [],
   "source": [
    "ESC_FE302"
   ]
  },
  {
   "cell_type": "code",
   "execution_count": null,
   "id": "58318cd0",
   "metadata": {},
   "outputs": [],
   "source": [
    "#unir a todo"
   ]
  },
  {
   "cell_type": "code",
   "execution_count": null,
   "id": "c8f00a74",
   "metadata": {},
   "outputs": [],
   "source": [
    "MB_Cu\n",
    "ESC_FE302\n",
    "df_2021_2023"
   ]
  },
  {
   "cell_type": "code",
   "execution_count": null,
   "id": "e1a41daf",
   "metadata": {},
   "outputs": [],
   "source": [
    "MB_Cu['Timestamp'] = MB_Cu['Fecha'].astype(str)+' '+MB_Cu['Hora'].astype(str)\n",
    "ESC_FE302['Timestamp'] = ESC_FE302['Fecha'].astype(str)+' '+ESC_FE302['Hora'].astype(str)"
   ]
  },
  {
   "cell_type": "code",
   "execution_count": null,
   "id": "132b1c05",
   "metadata": {},
   "outputs": [],
   "source": [
    "MB_Cu['Timestamp'] = pd.to_datetime(MB_Cu['Timestamp'])\n",
    "ESC_FE302['Timestamp'] = pd.to_datetime(ESC_FE302['Timestamp'])"
   ]
  },
  {
   "cell_type": "code",
   "execution_count": null,
   "id": "daf189cf",
   "metadata": {},
   "outputs": [],
   "source": [
    "ESC_FE302.rename(columns={'Valor':'ESC_FE'}, inplace=True)\n",
    "MB_Cu.rename(columns={'Valor':'MB_Cu'}, inplace=True)"
   ]
  },
  {
   "cell_type": "code",
   "execution_count": null,
   "id": "dba77016",
   "metadata": {},
   "outputs": [],
   "source": [
    "ESC_FE302.drop(['Fecha', 'Hora'], axis=1, inplace=True)\n",
    "MB_Cu.drop(['Fecha', 'Hora'], axis=1, inplace=True)"
   ]
  },
  {
   "cell_type": "code",
   "execution_count": null,
   "id": "07318817",
   "metadata": {},
   "outputs": [],
   "source": [
    "MB_Cu"
   ]
  },
  {
   "cell_type": "code",
   "execution_count": null,
   "id": "71de78aa",
   "metadata": {},
   "outputs": [],
   "source": [
    "from datetime import timedelta"
   ]
  },
  {
   "cell_type": "code",
   "execution_count": null,
   "id": "25fe1b35",
   "metadata": {},
   "outputs": [],
   "source": [
    "df_2021_2023['TimeStamp'] = pd.to_datetime(df_2021_2023['TimeStamp'], dayfirst=True)"
   ]
  },
  {
   "cell_type": "code",
   "execution_count": null,
   "id": "b14b6e07",
   "metadata": {},
   "outputs": [],
   "source": [
    "df_2021_2023['TimeStamp'] = df_2021_2023['TimeStamp'] + timedelta(minutes=1)"
   ]
  },
  {
   "cell_type": "code",
   "execution_count": null,
   "id": "2debc84c",
   "metadata": {},
   "outputs": [],
   "source": [
    "df_2021_2023.rename(columns={'TimeStamp':'Timestamp'}, inplace=True)"
   ]
  },
  {
   "cell_type": "code",
   "execution_count": null,
   "id": "89054145",
   "metadata": {},
   "outputs": [],
   "source": [
    "df_2021_2023.head()"
   ]
  },
  {
   "cell_type": "code",
   "execution_count": null,
   "id": "b493e785",
   "metadata": {},
   "outputs": [],
   "source": [
    "MB_Cu[~MB_Cu['Timestamp'].isin(df_2021_2023['Timestamp'])] #31-08-2021 y 31-01-2023 no existen"
   ]
  },
  {
   "cell_type": "code",
   "execution_count": null,
   "id": "6f15aec7",
   "metadata": {},
   "outputs": [],
   "source": [
    "ESC_FE302[~ESC_FE302['Timestamp'].isin(df_2021_2023['Timestamp'])]"
   ]
  },
  {
   "cell_type": "code",
   "execution_count": null,
   "id": "19b6a861",
   "metadata": {},
   "outputs": [],
   "source": [
    "Merge = pd.merge(df_2021_2023,MB_Cu, how='left', on = 'Timestamp')"
   ]
  },
  {
   "cell_type": "code",
   "execution_count": null,
   "id": "f5f26336",
   "metadata": {},
   "outputs": [],
   "source": [
    "Merge = pd.merge(Merge,ESC_FE302, how='left', on = 'Timestamp')"
   ]
  },
  {
   "cell_type": "code",
   "execution_count": null,
   "id": "f5c5bba2",
   "metadata": {},
   "outputs": [],
   "source": [
    "Merge"
   ]
  },
  {
   "cell_type": "code",
   "execution_count": null,
   "id": "7c300b94",
   "metadata": {},
   "outputs": [],
   "source": [
    "Merge['ESC_FE'] = Merge['ESC_FE'].fillna(method='backfill')\n",
    "Merge['MB_Cu'] = Merge['MB_Cu'].fillna(method='backfill')"
   ]
  },
  {
   "cell_type": "code",
   "execution_count": null,
   "id": "e39229e9",
   "metadata": {},
   "outputs": [],
   "source": [
    "Merge['ESC_FE'] = Merge['ESC_FE'].fillna(method='ffill')\n",
    "Merge['MB_Cu'] = Merge['MB_Cu'].fillna(method='ffill')"
   ]
  },
  {
   "cell_type": "code",
   "execution_count": null,
   "id": "c58e34a5",
   "metadata": {},
   "outputs": [],
   "source": [
    "Merge.drop(['mb_cu', 'escoria_FE304'], axis=1, inplace= True)"
   ]
  },
  {
   "cell_type": "code",
   "execution_count": null,
   "id": "8cf11f26",
   "metadata": {},
   "outputs": [],
   "source": [
    "Merge"
   ]
  },
  {
   "cell_type": "code",
   "execution_count": null,
   "id": "2f071813",
   "metadata": {},
   "outputs": [],
   "source": [
    "Merge.to_csv('documentos/completos/actualizado/df_21_23.csv')"
   ]
  },
  {
   "cell_type": "code",
   "execution_count": null,
   "id": "0b50bc9c",
   "metadata": {},
   "outputs": [],
   "source": [
    "#analisis"
   ]
  },
  {
   "cell_type": "code",
   "execution_count": null,
   "id": "91c61c61",
   "metadata": {},
   "outputs": [],
   "source": [
    "Merge = pd.read_csv('documentos/completos/actualizado/df_21_23.csv')"
   ]
  },
  {
   "cell_type": "code",
   "execution_count": null,
   "id": "c67fb20c",
   "metadata": {},
   "outputs": [],
   "source": [
    "Merge"
   ]
  },
  {
   "cell_type": "code",
   "execution_count": null,
   "id": "9ad52f46",
   "metadata": {},
   "outputs": [],
   "source": [
    "Merge['t MB'].hist(bins=100)"
   ]
  },
  {
   "cell_type": "code",
   "execution_count": null,
   "id": "f16eee76",
   "metadata": {},
   "outputs": [],
   "source": []
  },
  {
   "cell_type": "code",
   "execution_count": null,
   "id": "c1bafc20",
   "metadata": {},
   "outputs": [],
   "source": [
    "Merge.loc[Merge[((Merge['t MB']>1400) | (Merge['t MB']<1200)) & (Merge['t MB']>100)].index, 't MB'] = np.nan"
   ]
  },
  {
   "cell_type": "code",
   "execution_count": null,
   "id": "f3a8339f",
   "metadata": {},
   "outputs": [],
   "source": [
    "Merge[((Merge['t MB']>1400) | (Merge['t MB']<1200)) & (Merge['t MB']>100)]"
   ]
  },
  {
   "cell_type": "code",
   "execution_count": null,
   "id": "2844826d",
   "metadata": {},
   "outputs": [],
   "source": [
    "Merge[Merge['t MB'].isnull()]"
   ]
  },
  {
   "cell_type": "code",
   "execution_count": null,
   "id": "703ecfcb",
   "metadata": {},
   "outputs": [],
   "source": [
    "Merge['t MB'] = Merge['t MB'].fillna(method='backfill')"
   ]
  },
  {
   "cell_type": "code",
   "execution_count": null,
   "id": "1162cf77",
   "metadata": {},
   "outputs": [],
   "source": [
    "Merge[Merge['t MB'].isnull()]"
   ]
  },
  {
   "cell_type": "code",
   "execution_count": null,
   "id": "8c6d28b9",
   "metadata": {},
   "outputs": [],
   "source": [
    "Merge.loc[Merge[((Merge['t ESC']>1400) | (Merge['t ESC']<1200)) & (Merge['t ESC']>100)].index, 't ESC'] = np.nan"
   ]
  },
  {
   "cell_type": "code",
   "execution_count": null,
   "id": "221af784",
   "metadata": {},
   "outputs": [],
   "source": [
    "Merge['t ESC'] = Merge['t ESC'].fillna(method='backfill')"
   ]
  },
  {
   "cell_type": "code",
   "execution_count": null,
   "id": "d0faceae",
   "metadata": {},
   "outputs": [],
   "source": []
  },
  {
   "cell_type": "code",
   "execution_count": null,
   "id": "b32ec045",
   "metadata": {},
   "outputs": [],
   "source": [
    "Merge[Merge['t ESC'].isnull()]"
   ]
  },
  {
   "cell_type": "code",
   "execution_count": null,
   "id": "0c708b20",
   "metadata": {},
   "outputs": [],
   "source": [
    "Merge"
   ]
  },
  {
   "cell_type": "code",
   "execution_count": null,
   "id": "e2719da1",
   "metadata": {},
   "outputs": [],
   "source": [
    "Merge['MB_Cu'].hist(bins=100)"
   ]
  },
  {
   "cell_type": "code",
   "execution_count": null,
   "id": "d172e153",
   "metadata": {},
   "outputs": [],
   "source": [
    "Merge['t ESC'].hist(bins=100)"
   ]
  },
  {
   "cell_type": "code",
   "execution_count": null,
   "id": "7120dad5",
   "metadata": {},
   "outputs": [],
   "source": [
    "Merge['O2_proporcion'] = (Merge['Flujo aire'] * Merge['enriquecimiento oxigeno'])/100"
   ]
  },
  {
   "cell_type": "code",
   "execution_count": null,
   "id": "e0d4e921",
   "metadata": {},
   "outputs": [],
   "source": [
    "Merge"
   ]
  },
  {
   "cell_type": "code",
   "execution_count": null,
   "id": "316df620",
   "metadata": {},
   "outputs": [],
   "source": [
    "plt.figure(figsize=(14,6))\n",
    "sns.heatmap(Merge.drop(['Unnamed: 0', 'Timestamp', 'TimeStamp_2'], axis=1).corr(),cmap='coolwarm',annot=True)"
   ]
  },
  {
   "cell_type": "code",
   "execution_count": null,
   "id": "9888f8a6",
   "metadata": {},
   "outputs": [],
   "source": [
    "plt.figure(figsize=(14,6))\n",
    "sns.heatmap(Merge[Merge['TASA_alimentacion_conc']>0].drop(['Unnamed: 0', 'Timestamp', 'TimeStamp_2'], axis=1).corr(),cmap='coolwarm',annot=True)"
   ]
  },
  {
   "cell_type": "code",
   "execution_count": null,
   "id": "3fda59f9",
   "metadata": {},
   "outputs": [],
   "source": [
    "Merge.drop('Unnamed: 0', axis=1, inplace=True)"
   ]
  },
  {
   "cell_type": "code",
   "execution_count": null,
   "id": "13ef64b0",
   "metadata": {},
   "outputs": [],
   "source": [
    "Merge"
   ]
  },
  {
   "cell_type": "code",
   "execution_count": null,
   "id": "2c98d460",
   "metadata": {},
   "outputs": [],
   "source": []
  },
  {
   "cell_type": "markdown",
   "id": "c7a45ddd",
   "metadata": {},
   "source": [
    "### agregar columna periodo de trabajo"
   ]
  },
  {
   "cell_type": "code",
   "execution_count": null,
   "id": "4eb99cf9",
   "metadata": {},
   "outputs": [],
   "source": [
    "Merge"
   ]
  },
  {
   "cell_type": "code",
   "execution_count": null,
   "id": "a54d0be6",
   "metadata": {},
   "outputs": [],
   "source": [
    "Merge['proceso'] = 0\n",
    "i = 1\n",
    "estado = 0\n",
    "for indice, columna in Merge.iterrows():\n",
    "    if columna['TASA_alimentacion_conc'] != 0 and estado == 0:\n",
    "        Merge.loc[indice, 'proceso'] = i\n",
    "        estado = columna['TASA_alimentacion_conc']\n",
    "    if columna['TASA_alimentacion_conc'] != 0 and estado != 0:\n",
    "        Merge.loc[indice, 'proceso'] = i\n",
    "        estado = columna['TASA_alimentacion_conc']\n",
    "    if columna['TASA_alimentacion_conc'] == 0 and estado != 0:\n",
    "        i = i + 1\n",
    "        estado = columna['TASA_alimentacion_conc']\n",
    "    if columna['TASA_alimentacion_conc'] == 0 and estado == 0:\n",
    "        estado = columna['TASA_alimentacion_conc']"
   ]
  },
  {
   "cell_type": "code",
   "execution_count": null,
   "id": "ed47049a",
   "metadata": {},
   "outputs": [],
   "source": [
    "Merge"
   ]
  },
  {
   "cell_type": "code",
   "execution_count": null,
   "id": "a29c952d",
   "metadata": {},
   "outputs": [],
   "source": []
  },
  {
   "cell_type": "code",
   "execution_count": null,
   "id": "5d8e4c6e",
   "metadata": {},
   "outputs": [],
   "source": [
    "Merge.to_csv('documentos/completos/actualizado/df_21_23_vers2.csv', index = False)"
   ]
  },
  {
   "cell_type": "code",
   "execution_count": null,
   "id": "d4308105",
   "metadata": {},
   "outputs": [],
   "source": []
  },
  {
   "cell_type": "code",
   "execution_count": null,
   "id": "71d0726b",
   "metadata": {},
   "outputs": [],
   "source": [
    "df['TASA_alimentacion_conc'].hist(bins=100)"
   ]
  },
  {
   "cell_type": "code",
   "execution_count": null,
   "id": "e54065be",
   "metadata": {},
   "outputs": [],
   "source": [
    "#revisar datos en banda 72 a 75"
   ]
  },
  {
   "cell_type": "code",
   "execution_count": null,
   "id": "689d8304",
   "metadata": {},
   "outputs": [],
   "source": [
    "df = pd.read_csv('documentos/completos/actualizado/df_21_23_vers2.csv')"
   ]
  },
  {
   "cell_type": "code",
   "execution_count": null,
   "id": "c12497ab",
   "metadata": {},
   "outputs": [],
   "source": [
    "df['Coef_O2'] = df['O2_proporcion']/df['TASA_alimentacion_conc']"
   ]
  },
  {
   "cell_type": "code",
   "execution_count": null,
   "id": "81931562",
   "metadata": {},
   "outputs": [],
   "source": [
    "df"
   ]
  },
  {
   "cell_type": "code",
   "execution_count": null,
   "id": "e790acd1",
   "metadata": {},
   "outputs": [],
   "source": [
    "df['MB_Cu'].hist(bins=50)"
   ]
  },
  {
   "cell_type": "code",
   "execution_count": null,
   "id": "a584128b",
   "metadata": {},
   "outputs": [],
   "source": []
  },
  {
   "cell_type": "code",
   "execution_count": null,
   "id": "c62a81c3",
   "metadata": {},
   "outputs": [],
   "source": [
    "df = df[df['TASA_alimentacion_conc']>10]"
   ]
  },
  {
   "cell_type": "code",
   "execution_count": null,
   "id": "cddf32b3",
   "metadata": {},
   "outputs": [],
   "source": [
    "df_filtro = df[(df['MB_Cu']>65) & (df['MB_Cu']<80)]"
   ]
  },
  {
   "cell_type": "code",
   "execution_count": null,
   "id": "67f7916e",
   "metadata": {},
   "outputs": [],
   "source": [
    "df_filtro"
   ]
  },
  {
   "cell_type": "code",
   "execution_count": null,
   "id": "5b0e93fa",
   "metadata": {},
   "outputs": [],
   "source": [
    "y = df_filtro.dropna()[['MB_Cu']]\n",
    "#X = df_filtro.dropna()[['Flujo aire', 'Coef_O2', 'TASA_alimentacion_conc', 'alimentacion Si02', 'alimentacion carga fria']]\n",
    "X = df_filtro.dropna().drop(['enriquecimiento oxigeno', 'O2_proporcion', 'TimeStamp_2', 'Timestamp','MB_Cu', 'proceso', 'conc_s'], axis=1)"
   ]
  },
  {
   "cell_type": "code",
   "execution_count": null,
   "id": "3f1f63c7",
   "metadata": {},
   "outputs": [],
   "source": [
    "# import the regressor\n",
    "from sklearn.tree import DecisionTreeRegressor \n",
    "  \n",
    "# create a regressor object\n",
    "regressor = DecisionTreeRegressor(random_state = 0, max_depth=5)\n",
    "  \n",
    "# fit the regressor with X and Y data\n",
    "regressor.fit(X, y)"
   ]
  },
  {
   "cell_type": "code",
   "execution_count": null,
   "id": "d97ed23b",
   "metadata": {},
   "outputs": [],
   "source": [
    "# import export_graphviz\n",
    "from sklearn.tree import export_graphviz \n",
    "  \n",
    "# export the decision tree to a tree.dot file\n",
    "# for visualizing the plot easily anywhere\n",
    "export_graphviz(regressor, out_file ='arbol_decision/actualizado/filtro_con_alim_sin_s_3.dot',\n",
    "               feature_names =X.columns)"
   ]
  },
  {
   "cell_type": "code",
   "execution_count": null,
   "id": "b64856a9",
   "metadata": {},
   "outputs": [],
   "source": []
  },
  {
   "cell_type": "code",
   "execution_count": null,
   "id": "ebf00c11",
   "metadata": {},
   "outputs": [],
   "source": [
    "df_filtro[df_filtro['t ESC']<10]"
   ]
  },
  {
   "cell_type": "code",
   "execution_count": null,
   "id": "d06d4bef",
   "metadata": {},
   "outputs": [],
   "source": []
  },
  {
   "cell_type": "code",
   "execution_count": null,
   "id": "3fde27a8",
   "metadata": {},
   "outputs": [],
   "source": []
  },
  {
   "cell_type": "code",
   "execution_count": null,
   "id": "2c120474",
   "metadata": {},
   "outputs": [],
   "source": []
  },
  {
   "cell_type": "code",
   "execution_count": null,
   "id": "9f6e276c",
   "metadata": {},
   "outputs": [],
   "source": [
    "df_filtro[df_filtro['MB_Cu']>73.5].describe()"
   ]
  },
  {
   "cell_type": "code",
   "execution_count": null,
   "id": "fb626a1b",
   "metadata": {},
   "outputs": [],
   "source": []
  },
  {
   "cell_type": "code",
   "execution_count": null,
   "id": "2f48ffff",
   "metadata": {},
   "outputs": [],
   "source": [
    "df_filtro[df_filtro['MB_Cu']<73.5].describe()"
   ]
  },
  {
   "cell_type": "code",
   "execution_count": null,
   "id": "cf3c9357",
   "metadata": {},
   "outputs": [],
   "source": []
  },
  {
   "cell_type": "code",
   "execution_count": null,
   "id": "413c4a2c",
   "metadata": {},
   "outputs": [],
   "source": []
  },
  {
   "cell_type": "code",
   "execution_count": null,
   "id": "e64543d0",
   "metadata": {},
   "outputs": [],
   "source": [
    "df_filtro.drop(['Timestamp', 'TimeStamp_2'], axis=1).groupby('proceso').mean().sort_values('MB_Cu')"
   ]
  },
  {
   "cell_type": "code",
   "execution_count": null,
   "id": "9ba6f353",
   "metadata": {},
   "outputs": [],
   "source": [
    "courses = df_filtro.drop(['Timestamp', 'TimeStamp_2'], axis=1).groupby('proceso').mean().sort_values('MB_Cu').index\n",
    "values = list(df_filtro.drop(['Timestamp', 'TimeStamp_2'], axis=1).groupby('proceso').mean().sort_values('MB_Cu')['ESC_FE'].values)"
   ]
  },
  {
   "cell_type": "code",
   "execution_count": null,
   "id": "ac6c5508",
   "metadata": {},
   "outputs": [],
   "source": [
    "fig = plt.figure(figsize = (10, 5))\n",
    " \n",
    "# creating the bar plot\n",
    "plt.bar(courses, values, color ='maroon',\n",
    "        width = 0.4)"
   ]
  },
  {
   "cell_type": "code",
   "execution_count": null,
   "id": "7c007988",
   "metadata": {},
   "outputs": [],
   "source": []
  },
  {
   "cell_type": "markdown",
   "id": "2538644d",
   "metadata": {},
   "source": [
    "### arreglar df temperaturas"
   ]
  },
  {
   "cell_type": "code",
   "execution_count": null,
   "id": "2408ec57",
   "metadata": {},
   "outputs": [],
   "source": [
    "df[df['proceso'] != 0].groupby('proceso').describe()['t MB'].sort_values('mean')"
   ]
  },
  {
   "cell_type": "code",
   "execution_count": null,
   "id": "f3a2802d",
   "metadata": {},
   "outputs": [],
   "source": [
    "maximo = df[df['proceso'] != 0].loc[:,['t MB', 'proceso']].groupby('proceso').max()"
   ]
  },
  {
   "cell_type": "code",
   "execution_count": null,
   "id": "6bbd031d",
   "metadata": {},
   "outputs": [],
   "source": [
    "maximo[maximo['t MB']<1].sort_values('t MB').index"
   ]
  },
  {
   "cell_type": "code",
   "execution_count": null,
   "id": "e3801c83",
   "metadata": {},
   "outputs": [],
   "source": [
    "##lista de temperaturas 0  total 76\n",
    "t_cero = maximo[maximo['t MB']<1].sort_values('t MB').index.to_list().copy()"
   ]
  },
  {
   "cell_type": "code",
   "execution_count": null,
   "id": "b156052a",
   "metadata": {},
   "outputs": [],
   "source": [
    "t_cero"
   ]
  },
  {
   "cell_type": "code",
   "execution_count": null,
   "id": "93b1a353",
   "metadata": {},
   "outputs": [],
   "source": [
    "df_1 = df.copy()"
   ]
  },
  {
   "cell_type": "code",
   "execution_count": null,
   "id": "be2c39c9",
   "metadata": {},
   "outputs": [],
   "source": [
    "del df"
   ]
  },
  {
   "cell_type": "code",
   "execution_count": null,
   "id": "a8b1c870",
   "metadata": {},
   "outputs": [],
   "source": [
    "for i in t_cero:\n",
    "    df_1.drop(df_1[df_1['proceso'] == i].index, inplace = True)"
   ]
  },
  {
   "cell_type": "code",
   "execution_count": null,
   "id": "fb2283c5",
   "metadata": {},
   "outputs": [],
   "source": [
    "df_1[df_1['proceso'] != 0]"
   ]
  },
  {
   "cell_type": "code",
   "execution_count": null,
   "id": "d72422f5",
   "metadata": {},
   "outputs": [],
   "source": [
    "df_1['proceso'].unique()"
   ]
  },
  {
   "cell_type": "code",
   "execution_count": null,
   "id": "e87508ed",
   "metadata": {},
   "outputs": [],
   "source": [
    "df_1['t MB'].hist(bins=100)"
   ]
  },
  {
   "cell_type": "code",
   "execution_count": null,
   "id": "101608cd",
   "metadata": {},
   "outputs": [],
   "source": [
    "df_1.loc[df_1[(df_1['proceso']!=0) & (df_1['t MB']<1)].index, 't MB'] = np.nan"
   ]
  },
  {
   "cell_type": "code",
   "execution_count": null,
   "id": "24e96808",
   "metadata": {},
   "outputs": [],
   "source": [
    "df_1.loc[df_1[(df_1['proceso']!=0) & (df_1['t MB']<1)].index, :]"
   ]
  },
  {
   "cell_type": "code",
   "execution_count": null,
   "id": "5601322e",
   "metadata": {},
   "outputs": [],
   "source": [
    "df_1['t MB'] = df_1['t MB'].fillna(method='backfill')"
   ]
  },
  {
   "cell_type": "code",
   "execution_count": null,
   "id": "6fa2f862",
   "metadata": {},
   "outputs": [],
   "source": [
    "df_1['t MB'].hist()"
   ]
  },
  {
   "cell_type": "code",
   "execution_count": null,
   "id": "069c9164",
   "metadata": {},
   "outputs": [],
   "source": [
    "df_1[df_1['t MB'].isnull()]"
   ]
  },
  {
   "cell_type": "code",
   "execution_count": null,
   "id": "2aa55c4d",
   "metadata": {},
   "outputs": [],
   "source": [
    "df_1"
   ]
  },
  {
   "cell_type": "code",
   "execution_count": null,
   "id": "06a1414a",
   "metadata": {},
   "outputs": [],
   "source": [
    "maximo = df_1[df_1['proceso'] != 0].loc[:,['t ESC', 'proceso']].groupby('proceso').max()"
   ]
  },
  {
   "cell_type": "code",
   "execution_count": null,
   "id": "0199b7eb",
   "metadata": {},
   "outputs": [],
   "source": [
    "maximo[maximo['t ESC']<1]"
   ]
  },
  {
   "cell_type": "code",
   "execution_count": null,
   "id": "d4918122",
   "metadata": {},
   "outputs": [],
   "source": []
  },
  {
   "cell_type": "code",
   "execution_count": null,
   "id": "9562278c",
   "metadata": {},
   "outputs": [],
   "source": []
  },
  {
   "cell_type": "code",
   "execution_count": null,
   "id": "d82cbe74",
   "metadata": {},
   "outputs": [],
   "source": [
    "df_1[df_1['proceso'] != 0].groupby('proceso').describe()['t ESC'].sort_values('mean')"
   ]
  },
  {
   "cell_type": "code",
   "execution_count": null,
   "id": "5fbf8f37",
   "metadata": {},
   "outputs": [],
   "source": [
    "t_cero_esc = maximo[maximo['t ESC']<1].sort_values('t ESC').index.to_list().copy()"
   ]
  },
  {
   "cell_type": "code",
   "execution_count": null,
   "id": "3ca203b5",
   "metadata": {},
   "outputs": [],
   "source": [
    "len(t_cero_esc)"
   ]
  },
  {
   "cell_type": "code",
   "execution_count": null,
   "id": "7530c315",
   "metadata": {},
   "outputs": [],
   "source": [
    "#28 procesos eliminados"
   ]
  },
  {
   "cell_type": "code",
   "execution_count": null,
   "id": "ba02853e",
   "metadata": {},
   "outputs": [],
   "source": [
    "for i in t_cero_esc:\n",
    "    df_1.drop(df_1[df_1['proceso'] == i].index, inplace = True)"
   ]
  },
  {
   "cell_type": "code",
   "execution_count": null,
   "id": "b0746c8b",
   "metadata": {},
   "outputs": [],
   "source": [
    "df_1['proceso'].unique()"
   ]
  },
  {
   "cell_type": "code",
   "execution_count": null,
   "id": "920086db",
   "metadata": {},
   "outputs": [],
   "source": [
    "df_1"
   ]
  },
  {
   "cell_type": "code",
   "execution_count": null,
   "id": "aa9ad11f",
   "metadata": {},
   "outputs": [],
   "source": [
    "df_1.loc[df_1[(df_1['proceso']!=0) & (df_1['t ESC']<1)].index, 't ESC'] = np.nan"
   ]
  },
  {
   "cell_type": "code",
   "execution_count": null,
   "id": "083f98a8",
   "metadata": {},
   "outputs": [],
   "source": [
    "df_1[df_1['t ESC'].isnull()]"
   ]
  },
  {
   "cell_type": "code",
   "execution_count": null,
   "id": "9933c9ab",
   "metadata": {},
   "outputs": [],
   "source": [
    "df_1['t ESC'] = df_1['t ESC'].fillna(method='backfill')"
   ]
  },
  {
   "cell_type": "code",
   "execution_count": null,
   "id": "ec382119",
   "metadata": {},
   "outputs": [],
   "source": [
    "df_1[df_1['t ESC'].isnull()]"
   ]
  },
  {
   "cell_type": "code",
   "execution_count": null,
   "id": "941a9b0b",
   "metadata": {},
   "outputs": [],
   "source": [
    "df_1"
   ]
  },
  {
   "cell_type": "code",
   "execution_count": null,
   "id": "c79f4da1",
   "metadata": {},
   "outputs": [],
   "source": [
    "206327-202660"
   ]
  },
  {
   "cell_type": "code",
   "execution_count": null,
   "id": "a1278ded",
   "metadata": {},
   "outputs": [],
   "source": [
    "df_1.to_csv('documentos/completos/actualizado/df_21_23_filtro_t.csv')"
   ]
  },
  {
   "cell_type": "markdown",
   "id": "ad18492c",
   "metadata": {},
   "source": [
    "## arbol con data filtrada"
   ]
  },
  {
   "cell_type": "code",
   "execution_count": null,
   "id": "12a08858",
   "metadata": {},
   "outputs": [],
   "source": [
    "df_arbol_2023 = pd.read_csv('documentos/completos/actualizado/df_21_23_filtro_t.csv')"
   ]
  },
  {
   "cell_type": "code",
   "execution_count": null,
   "id": "8b194c17",
   "metadata": {},
   "outputs": [],
   "source": [
    "df_arbol_2023.drop('Unnamed: 0', axis=1, inplace=True)"
   ]
  },
  {
   "cell_type": "code",
   "execution_count": null,
   "id": "efc82cda",
   "metadata": {},
   "outputs": [],
   "source": [
    "df_arbol_2023 = df_arbol_2023[df_arbol_2023['proceso']!=0]"
   ]
  },
  {
   "cell_type": "code",
   "execution_count": null,
   "id": "c83478d4",
   "metadata": {},
   "outputs": [],
   "source": [
    "df = df_arbol_2023"
   ]
  },
  {
   "cell_type": "code",
   "execution_count": null,
   "id": "744b44a4",
   "metadata": {},
   "outputs": [],
   "source": [
    "df.shape"
   ]
  },
  {
   "cell_type": "code",
   "execution_count": null,
   "id": "5221bfaa",
   "metadata": {},
   "outputs": [],
   "source": [
    "df"
   ]
  },
  {
   "cell_type": "code",
   "execution_count": null,
   "id": "d2842325",
   "metadata": {},
   "outputs": [],
   "source": [
    "df['MB_Cu'].hist(bins=100)"
   ]
  },
  {
   "cell_type": "code",
   "execution_count": null,
   "id": "83950ba2",
   "metadata": {},
   "outputs": [],
   "source": [
    "df[(df['MB_Cu']>65) & (df['MB_Cu']<80)].shape"
   ]
  },
  {
   "cell_type": "code",
   "execution_count": null,
   "id": "66ece2e0",
   "metadata": {},
   "outputs": [],
   "source": [
    "df_filtro = df[(df['MB_Cu']>65) & (df['MB_Cu']<80)]"
   ]
  },
  {
   "cell_type": "code",
   "execution_count": null,
   "id": "0973f7b9",
   "metadata": {},
   "outputs": [],
   "source": [
    "df_filtro.columns"
   ]
  },
  {
   "cell_type": "code",
   "execution_count": null,
   "id": "c0c0c563",
   "metadata": {},
   "outputs": [],
   "source": [
    "y = df_filtro.dropna()[['MB_Cu', 'ESC_FE']]\n",
    "X = df_filtro.dropna()[['Flujo aire', 'Coef_O2', 'TASA_alimentacion_conc', 'alimentacion Si02', 'alimentacion carga fria']]\n",
    "#X = df_filtro.dropna().drop(['enriquecimiento oxigeno', 'O2_proporcion', 'TimeStamp_2', 'Timestamp','MB_Cu', 'proceso', 'conc_s'], axis=1)"
   ]
  },
  {
   "cell_type": "code",
   "execution_count": null,
   "id": "dab9bfbd",
   "metadata": {},
   "outputs": [],
   "source": [
    "# import the regressor\n",
    "from sklearn.tree import DecisionTreeRegressor \n",
    "  \n",
    "# create a regressor object\n",
    "regressor = DecisionTreeRegressor(random_state = 0, max_depth=5)\n",
    "  \n",
    "# fit the regressor with X and Y data\n",
    "regressor.fit(X, y)"
   ]
  },
  {
   "cell_type": "code",
   "execution_count": null,
   "id": "bea52d1a",
   "metadata": {},
   "outputs": [],
   "source": [
    "# import export_graphviz\n",
    "from sklearn.tree import export_graphviz \n",
    "# export the decision tree to a tree.dot file\n",
    "# for visualizing the plot easily anywhere\n",
    "export_graphviz(regressor, out_file ='arbol_decision/actualizado_filtro/solo_entradas_2_salidas.dot',\n",
    "               feature_names =X.columns)"
   ]
  },
  {
   "cell_type": "code",
   "execution_count": null,
   "id": "4b86fd26",
   "metadata": {},
   "outputs": [],
   "source": [
    "#http://www.webgraphviz.com/   pagina para visualizar archivo creado .dot"
   ]
  },
  {
   "cell_type": "code",
   "execution_count": null,
   "id": "6f9cf4ba",
   "metadata": {},
   "outputs": [],
   "source": []
  },
  {
   "cell_type": "code",
   "execution_count": null,
   "id": "d73946ee",
   "metadata": {},
   "outputs": [],
   "source": []
  },
  {
   "cell_type": "code",
   "execution_count": null,
   "id": "1e74a9be",
   "metadata": {},
   "outputs": [],
   "source": []
  },
  {
   "cell_type": "markdown",
   "id": "f8fa4de3",
   "metadata": {},
   "source": [
    "### Arbol con ESC con delay(prueba)"
   ]
  },
  {
   "cell_type": "code",
   "execution_count": null,
   "id": "cba6c6ba",
   "metadata": {},
   "outputs": [],
   "source": [
    "## delay escoria FE_304"
   ]
  },
  {
   "cell_type": "code",
   "execution_count": null,
   "id": "c6751e31",
   "metadata": {},
   "outputs": [],
   "source": [
    "df_2021 = pd.read_excel('documentos/Fe3O4_2021.xlsx')\n",
    "df_2022 = pd.read_excel('documentos/Leyes 2021-2022..xlsx', skiprows=0, sheet_name = 'Ley Fe3O4_Escoria')\n",
    "df_2023 = pd.read_excel('documentos/2023/Leyes.xlsx', skiprows=1, sheet_name = 'Ley Fe3O4_Escoria')\n",
    "\n",
    "df_2021.drop('Ensaye', axis=1, inplace=True)\n",
    "df_2022.drop('Ensaye', axis=1, inplace=True)\n",
    "df_2023.drop(['Unnamed: 0', 'Equipo', 'Producto'], axis=1, inplace=True)"
   ]
  },
  {
   "cell_type": "code",
   "execution_count": null,
   "id": "9f26d44a",
   "metadata": {},
   "outputs": [],
   "source": [
    "df_21_23 = pd.concat([df_2021,df_2022], axis=0)\n",
    "df_21_23 = pd.concat([df_21_23,df_2023], axis=0)\n",
    "df_21_23.dropna(inplace=True)"
   ]
  },
  {
   "cell_type": "code",
   "execution_count": null,
   "id": "a5f62147",
   "metadata": {},
   "outputs": [],
   "source": [
    "df_21_23['ESC_FE'] = df_21_23['Valor'].shift(periods=1) #desfasar valores ley FE_304"
   ]
  },
  {
   "cell_type": "code",
   "execution_count": null,
   "id": "31ba3b6a",
   "metadata": {},
   "outputs": [],
   "source": [
    "for fechas in df_21_23['Fecha'].unique():\n",
    "    fecha = str(fechas)\n",
    "    indice = df_21_23[df_21_23['Fecha'] == fecha].index[0]\n",
    "    df_21_23.loc[indice, 'ESC_FE'] = np.nan"
   ]
  },
  {
   "cell_type": "code",
   "execution_count": null,
   "id": "c2cbd69c",
   "metadata": {},
   "outputs": [],
   "source": [
    "df_21_23.loc[df_21_23[~df_21_23.duplicated(subset='Fecha', keep = False)].index, 'ESC_FE'] = df_21_23.loc[df_21_23[~df_21_23.duplicated(subset='Fecha', keep = False)].index, 'Valor']"
   ]
  },
  {
   "cell_type": "code",
   "execution_count": null,
   "id": "f348406f",
   "metadata": {},
   "outputs": [],
   "source": [
    "df_21_23['ESC_FE'] = df_21_23['ESC_FE'].fillna(method='backfill')"
   ]
  },
  {
   "cell_type": "code",
   "execution_count": null,
   "id": "a3a91720",
   "metadata": {},
   "outputs": [],
   "source": [
    "df_1 = pd.read_csv('documentos/completos/actualizado/df_21_23_filtro_t.csv')"
   ]
  },
  {
   "cell_type": "code",
   "execution_count": null,
   "id": "68ea6dc2",
   "metadata": {},
   "outputs": [],
   "source": []
  },
  {
   "cell_type": "code",
   "execution_count": null,
   "id": "da474e96",
   "metadata": {},
   "outputs": [],
   "source": []
  },
  {
   "cell_type": "code",
   "execution_count": null,
   "id": "1815056f",
   "metadata": {},
   "outputs": [],
   "source": [
    "df_21_23['Timestamp'] = df_21_23['Fecha'].astype(str)+' '+df_21_23['Hora'].astype(str)\n",
    "df_21_23['Timestamp'] = pd.to_datetime(df_21_23['Timestamp'])\n",
    "df_21_23.drop(['Fecha', 'Hora'], axis=1, inplace=True)\n",
    "df_21_23.rename(columns={'ESC_FE':'ESC_FE_delay'}, inplace=True)\n",
    "df_1['Timestamp'] = pd.to_datetime(df_1['Timestamp'])\n",
    "df_merge= pd.merge(df_1,df_21_23, how='left', on = 'Timestamp')\n",
    "\n",
    "indice = df_merge[df_merge['proceso'] == 0].index\n",
    "df_merge.loc[indice, 'ESC_FE_delay'] = 0\n",
    "df_merge['ESC_FE_delay'] = df_merge['ESC_FE_delay'].fillna(method='backfill')\n",
    "df_merge['ESC_FE_delay'] = df_merge['ESC_FE_delay'].fillna(method='ffill')\n",
    "df_merge.drop(['Unnamed: 0', 'Valor'], axis=1, inplace=True)\n",
    "\n",
    "df_merge.to_csv('documentos/completos/actualizado/df_21_23_esc_delay.csv')"
   ]
  },
  {
   "cell_type": "code",
   "execution_count": null,
   "id": "b1d9ace1",
   "metadata": {},
   "outputs": [],
   "source": []
  },
  {
   "cell_type": "code",
   "execution_count": null,
   "id": "bd12b302",
   "metadata": {},
   "outputs": [],
   "source": []
  },
  {
   "cell_type": "code",
   "execution_count": null,
   "id": "db7c2843",
   "metadata": {},
   "outputs": [],
   "source": [
    "df_2023 = pd.read_csv('documentos/completos/actualizado/df_21_23_esc_delay.csv')"
   ]
  },
  {
   "cell_type": "code",
   "execution_count": null,
   "id": "28bb7986",
   "metadata": {},
   "outputs": [],
   "source": [
    "df_2023.shape"
   ]
  },
  {
   "cell_type": "code",
   "execution_count": null,
   "id": "000d3dd2",
   "metadata": {},
   "outputs": [],
   "source": [
    "df_2023['MB_Cu'].hist(bins=50)\n",
    "pyplot.title(\"Rango operacional de Ley de Cu en MB\")\n",
    "pyplot.xlabel(\"Porcentaje de operación\")\n",
    "pyplot.ylabel(\"Frecuencia\")"
   ]
  },
  {
   "cell_type": "code",
   "execution_count": null,
   "id": "d7c29a9b",
   "metadata": {},
   "outputs": [],
   "source": []
  },
  {
   "cell_type": "code",
   "execution_count": null,
   "id": "75ba6ba1",
   "metadata": {},
   "outputs": [],
   "source": [
    "df_2023.drop('Unnamed: 0', axis=1, inplace=True)"
   ]
  },
  {
   "cell_type": "code",
   "execution_count": null,
   "id": "3ec297c7",
   "metadata": {},
   "outputs": [],
   "source": [
    "df_2023 = df_2023[df_2023['proceso']!=0]"
   ]
  },
  {
   "cell_type": "code",
   "execution_count": null,
   "id": "2249b56e",
   "metadata": {},
   "outputs": [],
   "source": [
    "df = df_2023"
   ]
  },
  {
   "cell_type": "code",
   "execution_count": null,
   "id": "2d1006b8",
   "metadata": {},
   "outputs": [],
   "source": [
    "df_filtro = df[(df['MB_Cu']>65) & (df['MB_Cu']<80)]"
   ]
  },
  {
   "cell_type": "code",
   "execution_count": null,
   "id": "48193c95",
   "metadata": {},
   "outputs": [],
   "source": [
    "df_filtro.head()"
   ]
  },
  {
   "cell_type": "code",
   "execution_count": null,
   "id": "74f04e9c",
   "metadata": {},
   "outputs": [],
   "source": [
    "y = df_filtro.dropna()[['MB_Cu']]\n",
    "X = df_filtro.dropna()[['Flujo aire', 'Coef_O2', 'TASA_alimentacion_conc', 'alimentacion Si02', 'alimentacion carga fria',\n",
    "                        't MB', 't ESC', 'conc_cu', 'conc_s']]\n",
    "#X = df_filtro.dropna().drop(['enriquecimiento oxigeno', 'O2_proporcion', 'TimeStamp_2', 'Timestamp','MB_Cu', 'proceso', 'conc_s'], axis=1)"
   ]
  },
  {
   "cell_type": "code",
   "execution_count": null,
   "id": "8536bec8",
   "metadata": {},
   "outputs": [],
   "source": [
    "# import the regressor\n",
    "from sklearn.tree import DecisionTreeRegressor \n",
    "  \n",
    "# create a regressor object\n",
    "regressor = DecisionTreeRegressor(random_state = 0, max_depth=5)\n",
    "  \n",
    "# fit the regressor with X and Y data\n",
    "regressor.fit(X, y)"
   ]
  },
  {
   "cell_type": "code",
   "execution_count": null,
   "id": "edf5ad03",
   "metadata": {},
   "outputs": [],
   "source": [
    "# import export_graphviz\n",
    "from sklearn.tree import export_graphviz \n",
    "# export the decision tree to a tree.dot file\n",
    "# for visualizing the plot easily anywhere\n",
    "export_graphviz(regressor, out_file ='arbol_decision/actualizado_filtro/solo_entradas_2.dot',\n",
    "               feature_names =X.columns)"
   ]
  },
  {
   "cell_type": "code",
   "execution_count": null,
   "id": "ee6b483b",
   "metadata": {},
   "outputs": [],
   "source": [
    "df_filtro.shape"
   ]
  },
  {
   "cell_type": "code",
   "execution_count": null,
   "id": "26c2c97d",
   "metadata": {},
   "outputs": [],
   "source": [
    "212532-3232"
   ]
  },
  {
   "cell_type": "code",
   "execution_count": null,
   "id": "84dc9aec",
   "metadata": {},
   "outputs": [],
   "source": [
    "209300-202660"
   ]
  },
  {
   "cell_type": "code",
   "execution_count": null,
   "id": "2bf8eae9",
   "metadata": {},
   "outputs": [],
   "source": [
    "from matplotlib import pyplot"
   ]
  },
  {
   "cell_type": "code",
   "execution_count": null,
   "id": "ce1bb9b2",
   "metadata": {},
   "outputs": [],
   "source": [
    "df['MB_Cu'].hist(bins=50)\n",
    "pyplot.title(\"Rango operacional de Ley de Cu en MB\")\n",
    "pyplot.xlabel(\"Porcentaje de operación\")\n",
    "pyplot.ylabel(\"Frecuencia\")"
   ]
  },
  {
   "cell_type": "code",
   "execution_count": null,
   "id": "a4c04acb",
   "metadata": {},
   "outputs": [],
   "source": [
    "df_filtro['MB_Cu'].hist(bins=100)\n",
    "pyplot.title(\"Rango operacional de Ley de Cu en MB\")\n",
    "pyplot.xlabel(\"Porcentaje de operación\")\n",
    "pyplot.ylabel(\"Frecuencia\")"
   ]
  },
  {
   "cell_type": "code",
   "execution_count": null,
   "id": "78dfbf92",
   "metadata": {},
   "outputs": [],
   "source": []
  },
  {
   "cell_type": "code",
   "execution_count": null,
   "id": "510dc157",
   "metadata": {},
   "outputs": [],
   "source": [
    "df_2023.shape"
   ]
  },
  {
   "cell_type": "code",
   "execution_count": null,
   "id": "e1a8a412",
   "metadata": {},
   "outputs": [],
   "source": [
    "df_2023['MB_Cu'].hist(bins=100)\n",
    "pyplot.title(\"Rango operacional de Ley de Cu en MB\")\n",
    "pyplot.xlabel(\"Porcentaje de operación\")\n",
    "pyplot.ylabel(\"Frecuencia\")"
   ]
  },
  {
   "cell_type": "code",
   "execution_count": null,
   "id": "62276463",
   "metadata": {},
   "outputs": [],
   "source": []
  },
  {
   "cell_type": "code",
   "execution_count": null,
   "id": "616f45b1",
   "metadata": {},
   "outputs": [],
   "source": [
    "df_2023[(df_2023['MB_Cu']>=72) & (df_2023['MB_Cu']<=75)]['MB_Cu'].hist()"
   ]
  },
  {
   "cell_type": "code",
   "execution_count": null,
   "id": "b086bb72",
   "metadata": {},
   "outputs": [],
   "source": [
    "df_2023[((df_2023['MB_Cu']>=72) & (df_2023['MB_Cu']<=75))]"
   ]
  },
  {
   "cell_type": "code",
   "execution_count": null,
   "id": "4f1db026",
   "metadata": {},
   "outputs": [],
   "source": [
    "79203 fuera 38977 dentro"
   ]
  },
  {
   "cell_type": "code",
   "execution_count": null,
   "id": "20e34ef0",
   "metadata": {},
   "outputs": [],
   "source": [
    "118180"
   ]
  },
  {
   "cell_type": "code",
   "execution_count": null,
   "id": "454a4446",
   "metadata": {},
   "outputs": [],
   "source": [
    "(38977/118180)*100"
   ]
  },
  {
   "cell_type": "code",
   "execution_count": null,
   "id": "beaa5fc3",
   "metadata": {},
   "outputs": [],
   "source": [
    "202660"
   ]
  },
  {
   "cell_type": "code",
   "execution_count": null,
   "id": "542856a2",
   "metadata": {},
   "outputs": [],
   "source": [
    "60088"
   ]
  },
  {
   "cell_type": "code",
   "execution_count": null,
   "id": "63710c8e",
   "metadata": {},
   "outputs": [],
   "source": []
  },
  {
   "cell_type": "code",
   "execution_count": null,
   "id": "fa4cd79a",
   "metadata": {},
   "outputs": [],
   "source": [
    "df_2023[(df_2023['MB_Cu']>=60) & (df_2023['MB_Cu']<=80)]['MB_Cu'].hist(bins=100)"
   ]
  },
  {
   "cell_type": "code",
   "execution_count": null,
   "id": "3e057a46",
   "metadata": {},
   "outputs": [],
   "source": [
    "df_2023.groupby('proceso')['MB_Cu'].mean()"
   ]
  },
  {
   "cell_type": "code",
   "execution_count": null,
   "id": "89cff015",
   "metadata": {},
   "outputs": [],
   "source": [
    "df_2023.groupby('proceso')['MB_Cu'].mean()[~((df_2023.groupby('proceso')['MB_Cu'].mean() >=72) & (df_2023.groupby('proceso')['MB_Cu'].mean() <=75))]"
   ]
  },
  {
   "cell_type": "code",
   "execution_count": null,
   "id": "8064326b",
   "metadata": {},
   "outputs": [],
   "source": [
    "232/917"
   ]
  },
  {
   "cell_type": "code",
   "execution_count": null,
   "id": "2913d209",
   "metadata": {},
   "outputs": [],
   "source": [
    "685"
   ]
  },
  {
   "cell_type": "code",
   "execution_count": null,
   "id": "cbe036db",
   "metadata": {},
   "outputs": [],
   "source": [
    "232"
   ]
  },
  {
   "cell_type": "code",
   "execution_count": null,
   "id": "c3b95105",
   "metadata": {},
   "outputs": [],
   "source": []
  },
  {
   "cell_type": "markdown",
   "id": "8d4121ff",
   "metadata": {},
   "source": [
    "## nuevos datos ago-sep"
   ]
  },
  {
   "cell_type": "code",
   "execution_count": null,
   "id": "74ce5eae",
   "metadata": {},
   "outputs": [],
   "source": [
    "df_ago_sep = pd.read_excel(\"documentos/2023/ago-sep/CT.xlsx\", skiprows=1, sheet_name = 'Average.')"
   ]
  },
  {
   "cell_type": "code",
   "execution_count": null,
   "id": "3813a652",
   "metadata": {},
   "outputs": [],
   "source": [
    "df_ago_sep"
   ]
  },
  {
   "cell_type": "code",
   "execution_count": null,
   "id": "ae0ed974",
   "metadata": {},
   "outputs": [],
   "source": [
    "Cobre = pd.read_excel(\"documentos/2023/ago-sep/Cobre y azufre..xlsx\", skiprows=1, sheet_name = 'Cu alimentación.')\n",
    "Azufre = pd.read_excel(\"documentos/2023/ago-sep/Cobre y azufre..xlsx\", skiprows=1, sheet_name = 'S alimentación.')"
   ]
  },
  {
   "cell_type": "code",
   "execution_count": null,
   "id": "cbe56f9a",
   "metadata": {},
   "outputs": [],
   "source": [
    "Azufre.drop(['Unnamed: 0', 'Nombre', 'Unidad'],axis=1, inplace = True)"
   ]
  },
  {
   "cell_type": "code",
   "execution_count": null,
   "id": "5aa9fe59",
   "metadata": {},
   "outputs": [],
   "source": [
    "Azufre.rename(columns={'Día':'Ley_S'}, inplace=True)"
   ]
  },
  {
   "cell_type": "code",
   "execution_count": null,
   "id": "e9a8b6d8",
   "metadata": {},
   "outputs": [],
   "source": [
    "Cobre.drop(['Unnamed: 0', 'Nombre', 'Unidad'],axis=1, inplace = True)\n",
    "Cobre.rename(columns={'Día':'Ley_Cu'}, inplace=True)"
   ]
  },
  {
   "cell_type": "code",
   "execution_count": null,
   "id": "7ffef329",
   "metadata": {},
   "outputs": [],
   "source": [
    "Cobre['Fecha'] = pd.to_datetime(Cobre['Fecha'], unit='D', origin='1899-12-30')\n",
    "Azufre['Fecha'] = pd.to_datetime(Azufre['Fecha'], unit='D', origin='1899-12-30')"
   ]
  },
  {
   "cell_type": "code",
   "execution_count": null,
   "id": "68759432",
   "metadata": {},
   "outputs": [],
   "source": [
    "Cobre.rename(columns={'Fecha':'TimeStamp'}, inplace=True)\n",
    "Azufre.rename(columns={'Fecha':'TimeStamp'}, inplace=True)"
   ]
  },
  {
   "cell_type": "code",
   "execution_count": null,
   "id": "4f6c02d9",
   "metadata": {},
   "outputs": [],
   "source": [
    "Cobre.rename(columns={'TimeStamp':'TimeStamp_2'}, inplace=True)\n",
    "Azufre.rename(columns={'TimeStamp':'TimeStamp_2'}, inplace=True)"
   ]
  },
  {
   "cell_type": "code",
   "execution_count": null,
   "id": "7a548f17",
   "metadata": {},
   "outputs": [],
   "source": [
    "df_ago_sep['TimeStamp'] = pd.to_datetime(df_ago_sep['TimeStamp'], unit='D', origin='1899-12-30')"
   ]
  },
  {
   "cell_type": "code",
   "execution_count": null,
   "id": "cf072a1c",
   "metadata": {},
   "outputs": [],
   "source": [
    "df_ago_sep['TimeStamp'] = df_ago_sep['TimeStamp'].dt.strftime(\"%Y-%m-%d %H:%M:%S\")"
   ]
  },
  {
   "cell_type": "code",
   "execution_count": null,
   "id": "88c39bc8",
   "metadata": {},
   "outputs": [],
   "source": [
    "df_ago_sep['TimeStamp'] = pd.to_datetime(df_ago_sep['TimeStamp'])"
   ]
  },
  {
   "cell_type": "code",
   "execution_count": null,
   "id": "311f7493",
   "metadata": {},
   "outputs": [],
   "source": [
    "df_ago_sep['TimeStamp'] = df_ago_sep['TimeStamp'] + timedelta(seconds=1)"
   ]
  },
  {
   "cell_type": "code",
   "execution_count": null,
   "id": "df530aa9",
   "metadata": {},
   "outputs": [],
   "source": [
    "df_ago_sep"
   ]
  },
  {
   "cell_type": "code",
   "execution_count": null,
   "id": "85108293",
   "metadata": {},
   "outputs": [],
   "source": []
  },
  {
   "cell_type": "code",
   "execution_count": null,
   "id": "a7ebd99b",
   "metadata": {},
   "outputs": [],
   "source": [
    "df_ago_sep['TimeStamp_2'] = df_ago_sep['TimeStamp'].dt.strftime(\"%Y-%m-%d\")"
   ]
  },
  {
   "cell_type": "code",
   "execution_count": null,
   "id": "c8143673",
   "metadata": {},
   "outputs": [],
   "source": [
    "df_ago_sep['TimeStamp_2'] = pd.to_datetime(df_ago_sep['TimeStamp_2'])"
   ]
  },
  {
   "cell_type": "code",
   "execution_count": null,
   "id": "c60768a5",
   "metadata": {},
   "outputs": [],
   "source": [
    "merge = pd.merge(df_ago_sep,Cobre, how='left', on = 'TimeStamp_2')"
   ]
  },
  {
   "cell_type": "code",
   "execution_count": null,
   "id": "a6479882",
   "metadata": {},
   "outputs": [],
   "source": [
    "merge = pd.merge(merge,Azufre, how='left', on = 'TimeStamp_2')"
   ]
  },
  {
   "cell_type": "code",
   "execution_count": null,
   "id": "065d2f3f",
   "metadata": {},
   "outputs": [],
   "source": [
    "merge"
   ]
  },
  {
   "cell_type": "code",
   "execution_count": null,
   "id": "10a79cdb",
   "metadata": {},
   "outputs": [],
   "source": [
    "merge.rename(columns={'TimeStamp':'Timestamp', '.FI_325':'Flujo aire', '.[FFIC_324.PV]':'enriquecimiento oxigeno',\n",
    "                      '.TASA_INST':'TASA_alimentacion_conc', '.[WIC_135.PV]':'alimentacion Si02',\n",
    "                      '.[WIC_134.PV]':'alimentacion carga fria', '.TIR_311':'t MB', '.TIR_313':'t ESC',\n",
    "                     'Ley_Cu':'MB_Cu', 'Ley_S':'ESC_FE'}, inplace=True)"
   ]
  },
  {
   "cell_type": "code",
   "execution_count": null,
   "id": "438faa0e",
   "metadata": {},
   "outputs": [],
   "source": [
    "merge.sort_values(by = 'Timestamp', ascending=True)"
   ]
  },
  {
   "cell_type": "code",
   "execution_count": null,
   "id": "bce0a17b",
   "metadata": {},
   "outputs": [],
   "source": [
    "df_21_23 = pd.read_csv(\"documentos/completos/actualizado/df_21_23.csv\")"
   ]
  },
  {
   "cell_type": "code",
   "execution_count": null,
   "id": "0de84af8",
   "metadata": {},
   "outputs": [],
   "source": [
    "df_21_23.drop('Unnamed: 0', axis=1, inplace=True)"
   ]
  },
  {
   "cell_type": "code",
   "execution_count": null,
   "id": "1c499220",
   "metadata": {},
   "outputs": [],
   "source": [
    "df_21_23"
   ]
  },
  {
   "cell_type": "code",
   "execution_count": null,
   "id": "35278607",
   "metadata": {},
   "outputs": [],
   "source": [
    "Concatenar = pd.concat([df_21_23, merge])"
   ]
  },
  {
   "cell_type": "code",
   "execution_count": null,
   "id": "81b74ea5",
   "metadata": {},
   "outputs": [],
   "source": [
    "Concatenar"
   ]
  },
  {
   "cell_type": "code",
   "execution_count": null,
   "id": "b5caa8e9",
   "metadata": {},
   "outputs": [],
   "source": [
    "Concatenar.info()"
   ]
  },
  {
   "cell_type": "code",
   "execution_count": null,
   "id": "7dde6657",
   "metadata": {},
   "outputs": [],
   "source": [
    "Concatenar['Timestamp'] = pd.to_datetime(Concatenar['Timestamp'])"
   ]
  },
  {
   "cell_type": "code",
   "execution_count": null,
   "id": "16836be3",
   "metadata": {},
   "outputs": [],
   "source": [
    "Concatenar.reset_index(drop=True, inplace=True)"
   ]
  },
  {
   "cell_type": "code",
   "execution_count": null,
   "id": "ffc37432",
   "metadata": {},
   "outputs": [],
   "source": [
    "Concatenar['segundos'] = Concatenar['Timestamp'].dt.strftime(\"%S\")"
   ]
  },
  {
   "cell_type": "code",
   "execution_count": null,
   "id": "63471c90",
   "metadata": {},
   "outputs": [],
   "source": [
    "Concatenar[Concatenar['segundos'] == '59'].index"
   ]
  },
  {
   "cell_type": "code",
   "execution_count": null,
   "id": "f8e0fe85",
   "metadata": {},
   "outputs": [],
   "source": [
    "Concatenar.loc[Concatenar[Concatenar['segundos'] == '59'].index, 'Timestamp'] = Concatenar.loc[Concatenar[Concatenar['segundos'] == '59'].index, 'Timestamp'] + timedelta(seconds=1)"
   ]
  },
  {
   "cell_type": "code",
   "execution_count": null,
   "id": "20d4e3c6",
   "metadata": {},
   "outputs": [],
   "source": [
    "Concatenar"
   ]
  },
  {
   "cell_type": "code",
   "execution_count": null,
   "id": "637ccf3d",
   "metadata": {},
   "outputs": [],
   "source": [
    "Concatenar.drop('segundos',axis=1, inplace=True)"
   ]
  },
  {
   "cell_type": "code",
   "execution_count": null,
   "id": "8222a677",
   "metadata": {},
   "outputs": [],
   "source": [
    "Concatenar.to_csv('documentos/completos/actualizado/df_21_actual.csv', index=False)"
   ]
  },
  {
   "cell_type": "code",
   "execution_count": null,
   "id": "27590767",
   "metadata": {},
   "outputs": [],
   "source": []
  },
  {
   "cell_type": "markdown",
   "id": "ab182662",
   "metadata": {},
   "source": [
    "## filtrar todo"
   ]
  },
  {
   "cell_type": "code",
   "execution_count": null,
   "id": "d68fd38f",
   "metadata": {},
   "outputs": [],
   "source": [
    "#df_todo = pd.read_csv('documentos/completos/actualizado/df_21_actual.csv')\n",
    "#df_todo = pd.read_csv('documentos/completos/actualizado/df_con_turnos.csv')\n",
    "df_todo = pd.read_csv('documentos/completos/actualizado/df_o2.csv')"
   ]
  },
  {
   "cell_type": "code",
   "execution_count": null,
   "id": "42051872",
   "metadata": {},
   "outputs": [],
   "source": [
    "df_todo"
   ]
  },
  {
   "cell_type": "code",
   "execution_count": null,
   "id": "c04a5d18",
   "metadata": {},
   "outputs": [],
   "source": [
    "df_todo['TASA_alimentacion_conc'].hist()"
   ]
  },
  {
   "cell_type": "code",
   "execution_count": null,
   "id": "03a761ac",
   "metadata": {},
   "outputs": [],
   "source": [
    "df_todo[df_todo['TASA_alimentacion_conc'] > 10].index"
   ]
  },
  {
   "cell_type": "code",
   "execution_count": null,
   "id": "771850b0",
   "metadata": {},
   "outputs": [],
   "source": [
    "df_todo.drop(df_todo[df_todo['TASA_alimentacion_conc'] < 10].index, inplace=True)"
   ]
  },
  {
   "cell_type": "code",
   "execution_count": null,
   "id": "1d18ad94",
   "metadata": {},
   "outputs": [],
   "source": [
    "df_todo.shape"
   ]
  },
  {
   "cell_type": "code",
   "execution_count": null,
   "id": "5f1de5b2",
   "metadata": {},
   "outputs": [],
   "source": [
    "df_todo['t MB'].hist(bins=100)"
   ]
  },
  {
   "cell_type": "code",
   "execution_count": null,
   "id": "5b5201ea",
   "metadata": {},
   "outputs": [],
   "source": [
    "df_todo[(df_todo['t MB'] > 1200) & (df_todo['t MB'] < 1400)].index"
   ]
  },
  {
   "cell_type": "code",
   "execution_count": null,
   "id": "d44e3537",
   "metadata": {},
   "outputs": [],
   "source": [
    "df_todo.drop(df_todo[df_todo['t MB'] < 1200].index, inplace=True)"
   ]
  },
  {
   "cell_type": "code",
   "execution_count": null,
   "id": "b9e0674d",
   "metadata": {},
   "outputs": [],
   "source": [
    "df_todo.drop(df_todo[df_todo['t MB'] > 1350].index, inplace=True)"
   ]
  },
  {
   "cell_type": "code",
   "execution_count": null,
   "id": "870f2cf4",
   "metadata": {},
   "outputs": [],
   "source": [
    "df_todo"
   ]
  },
  {
   "cell_type": "code",
   "execution_count": null,
   "id": "806d41fa",
   "metadata": {},
   "outputs": [],
   "source": [
    "df_todo['t MB'].hist(bins=100)"
   ]
  },
  {
   "cell_type": "code",
   "execution_count": null,
   "id": "8a8a9ed8",
   "metadata": {},
   "outputs": [],
   "source": [
    "df_todo['Flujo aire'].hist(bins=100)"
   ]
  },
  {
   "cell_type": "code",
   "execution_count": null,
   "id": "c83af660",
   "metadata": {},
   "outputs": [],
   "source": [
    "df_todo.reset_index(drop=True, inplace=True)"
   ]
  },
  {
   "cell_type": "code",
   "execution_count": null,
   "id": "72107a7d",
   "metadata": {},
   "outputs": [],
   "source": [
    "df_todo.to_csv('documentos/completos/actualizado/df_filtrada.csv', index=False)"
   ]
  },
  {
   "cell_type": "code",
   "execution_count": null,
   "id": "5d630ae0",
   "metadata": {},
   "outputs": [],
   "source": []
  },
  {
   "cell_type": "code",
   "execution_count": null,
   "id": "b2223bb7",
   "metadata": {},
   "outputs": [],
   "source": []
  },
  {
   "cell_type": "code",
   "execution_count": null,
   "id": "908c9516",
   "metadata": {},
   "outputs": [],
   "source": [
    "df_todo['t ESC'].hist(bins=100)"
   ]
  },
  {
   "cell_type": "code",
   "execution_count": null,
   "id": "8be71615",
   "metadata": {},
   "outputs": [],
   "source": [
    "df_todo.drop(df_todo[df_todo['t ESC'] < 1200].index, inplace=True)"
   ]
  },
  {
   "cell_type": "code",
   "execution_count": null,
   "id": "eb198ae6",
   "metadata": {},
   "outputs": [],
   "source": [
    "df_todo.drop(df_todo[df_todo['t ESC'] > 1350].index, inplace=True)"
   ]
  },
  {
   "cell_type": "code",
   "execution_count": null,
   "id": "2f01bfae",
   "metadata": {},
   "outputs": [],
   "source": [
    "df_todo['t ESC'].hist(bins=100)"
   ]
  },
  {
   "cell_type": "code",
   "execution_count": null,
   "id": "e10fbcc0",
   "metadata": {},
   "outputs": [],
   "source": [
    "df_todo.shape"
   ]
  },
  {
   "cell_type": "code",
   "execution_count": null,
   "id": "19a90644",
   "metadata": {},
   "outputs": [],
   "source": [
    "df_todo.columns"
   ]
  },
  {
   "cell_type": "code",
   "execution_count": null,
   "id": "c4b00559",
   "metadata": {},
   "outputs": [],
   "source": [
    "df_todo[(df_todo['t MB'] < 1214) & (df_todo['t MB'] > 1200) & (df_todo['conc_s'] > 25.5) & (df_todo['conc_s'] < 28.85)]['MB_Cu'].describe()"
   ]
  },
  {
   "cell_type": "code",
   "execution_count": null,
   "id": "094d0ef4",
   "metadata": {},
   "outputs": [],
   "source": [
    "plt.figure(figsize=(14,6))\n",
    "sns.heatmap(df_todo.drop(['Timestamp', 'Operador TC', 'Jefe turno TC',\n",
    "       'Operador TA', 'Jefe turno TA', 'Operador TB', 'Jefe turno TB'], axis=1).corr(),cmap='coolwarm',annot=True)"
   ]
  },
  {
   "cell_type": "code",
   "execution_count": null,
   "id": "70661723",
   "metadata": {},
   "outputs": [],
   "source": [
    "sns.pairplot(df_todo.drop(['Timestamp', 'Operador TC', 'Jefe turno TC',\n",
    "       'Operador TA', 'Jefe turno TA', 'Operador TB', 'Jefe turno TB'], axis=1))"
   ]
  },
  {
   "cell_type": "code",
   "execution_count": null,
   "id": "0d15eada",
   "metadata": {},
   "outputs": [],
   "source": []
  }
 ],
 "metadata": {
  "kernelspec": {
   "display_name": "SAM",
   "language": "python",
   "name": "sam"
  },
  "language_info": {
   "codemirror_mode": {
    "name": "ipython",
    "version": 3
   },
   "file_extension": ".py",
   "mimetype": "text/x-python",
   "name": "python",
   "nbconvert_exporter": "python",
   "pygments_lexer": "ipython3",
   "version": "3.11.4"
  },
  "toc": {
   "base_numbering": 1,
   "nav_menu": {},
   "number_sections": true,
   "sideBar": true,
   "skip_h1_title": false,
   "title_cell": "Table of Contents",
   "title_sidebar": "Contents",
   "toc_cell": false,
   "toc_position": {
    "height": "calc(100% - 180px)",
    "left": "10px",
    "top": "150px",
    "width": "320px"
   },
   "toc_section_display": true,
   "toc_window_display": true
  }
 },
 "nbformat": 4,
 "nbformat_minor": 5
}
